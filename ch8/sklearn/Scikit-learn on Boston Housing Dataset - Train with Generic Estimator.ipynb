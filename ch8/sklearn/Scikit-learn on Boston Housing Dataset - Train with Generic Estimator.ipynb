{
 "cells": [
  {
   "cell_type": "code",
   "execution_count": null,
   "metadata": {},
   "outputs": [],
   "source": [
    "%%sh\n",
    "pygmentize sklearn-boston-housing-generic.py"
   ]
  },
  {
   "cell_type": "code",
   "execution_count": null,
   "metadata": {},
   "outputs": [],
   "source": [
    "%%sh\n",
    "cat Dockerfile-generic"
   ]
  },
  {
   "cell_type": "code",
   "execution_count": 1,
   "metadata": {},
   "outputs": [
    {
     "name": "stdout",
     "output_type": "stream",
     "text": [
      "Sending build context to Docker daemon  112.1kB\r",
      "\r\n",
      "Step 1/4 : FROM python:3.7\n",
      " ---> 072863679c31\n",
      "Step 2/4 : RUN pip3 install --no-cache scikit-learn numpy pandas joblib\n",
      " ---> Using cache\n",
      " ---> b0cc35081cdb\n",
      "Step 3/4 : COPY sklearn-boston-housing-generic.py /usr/bin/train\n",
      " ---> Using cache\n",
      " ---> 6e7db1d65598\n",
      "Step 4/4 : RUN chmod 755 /usr/bin/train\n",
      " ---> Using cache\n",
      " ---> bd407936dab6\n",
      "Successfully built bd407936dab6\n",
      "Successfully tagged sklearn-custom:estimator\n",
      "Login Succeeded\n",
      "The push refers to repository [613904931467.dkr.ecr.eu-west-1.amazonaws.com/sklearn-custom]\n",
      "76f77313f364: Preparing\n",
      "04ee4b880642: Preparing\n",
      "f58507b91a56: Preparing\n",
      "3dcbd9a42407: Preparing\n",
      "35dd3ebed11d: Preparing\n",
      "f61899846314: Preparing\n",
      "697765a85531: Preparing\n",
      "8c39f7b1a31a: Preparing\n",
      "88cfc2fcd059: Preparing\n",
      "760e8d95cf58: Preparing\n",
      "7cc1c2d7e744: Preparing\n",
      "8c02234b8605: Preparing\n",
      "760e8d95cf58: Waiting\n",
      "697765a85531: Waiting\n",
      "7cc1c2d7e744: Waiting\n",
      "8c02234b8605: Waiting\n",
      "8c39f7b1a31a: Waiting\n",
      "88cfc2fcd059: Waiting\n",
      "f61899846314: Waiting\n",
      "35dd3ebed11d: Layer already exists\n",
      "f58507b91a56: Layer already exists\n",
      "3dcbd9a42407: Layer already exists\n",
      "04ee4b880642: Layer already exists\n",
      "76f77313f364: Layer already exists\n",
      "8c39f7b1a31a: Layer already exists\n",
      "f61899846314: Layer already exists\n",
      "697765a85531: Layer already exists\n",
      "760e8d95cf58: Layer already exists\n",
      "88cfc2fcd059: Layer already exists\n",
      "7cc1c2d7e744: Layer already exists\n",
      "8c02234b8605: Layer already exists\n",
      "estimator: digest: sha256:970e8618f59e479254634321469cfeb482959d90c3ba95fabecf3edc2c76de1a size: 2843\n"
     ]
    },
    {
     "name": "stderr",
     "output_type": "stream",
     "text": [
      "WARNING! Your password will be stored unencrypted in /home/ec2-user/.docker/config.json.\n",
      "Configure a credential helper to remove this warning. See\n",
      "https://docs.docker.com/engine/reference/commandline/login/#credentials-store\n",
      "\n"
     ]
    }
   ],
   "source": [
    "%%sh\n",
    "export REGION=eu-west-1\n",
    "export ACCOUNT_ID=`aws sts get-caller-identity --query Account --output text`\n",
    "docker build -t sklearn-custom:estimator -f Dockerfile-generic .\n",
    "export IMAGE_ID=`docker images -q sklearn-custom:estimator`\n",
    "docker tag $IMAGE_ID $ACCOUNT_ID.dkr.ecr.$REGION.amazonaws.com/sklearn-custom:estimator\n",
    "aws ecr get-login-password | docker login --username AWS --password-stdin $ACCOUNT_ID.dkr.ecr.$REGION.amazonaws.com/sklearn-custom:estimator\n",
    "docker push $ACCOUNT_ID.dkr.ecr.$REGION.amazonaws.com/sklearn-custom:estimator"
   ]
  },
  {
   "cell_type": "code",
   "execution_count": 13,
   "metadata": {},
   "outputs": [
    {
     "name": "stdout",
     "output_type": "stream",
     "text": [
      "Creating tmpibm268ox_algo-1-6krfi_1 ... \n",
      "\u001b[1BAttaching to tmpibm268ox_algo-1-6krfi_12mdone\u001b[0m\n",
      "\u001b[36malgo-1-6krfi_1  |\u001b[0m {'normalize': 'True', 'test-size': '0.1', 'random-state': '123'}\n",
      "\u001b[36malgo-1-6krfi_1  |\u001b[0m Mean squared error: 41.02\n",
      "\u001b[36malgo-1-6krfi_1  |\u001b[0m Coefficient of determination: 0.64\n",
      "\u001b[36mtmpibm268ox_algo-1-6krfi_1 exited with code 0\n",
      "\u001b[0mAborting on container exit...\n",
      "===== Job Complete =====\n"
     ]
    }
   ],
   "source": [
    "import sagemaker\n",
    "from sagemaker.estimator import Estimator\n",
    "\n",
    "session = sagemaker.Session()\n",
    "account_id = session.boto_session.client('sts').get_caller_identity()['Account']\n",
    "region = session.boto_session.region_name\n",
    "\n",
    "training = 'file://.'\n",
    "output = 'file://.'\n",
    "\n",
    "role = sagemaker.get_execution_role()\n",
    "\n",
    "sk = Estimator(\n",
    "             image_name=account_id+'.dkr.ecr.'+region+'.amazonaws.com/sklearn-custom:estimator',\n",
    "             role=role,\n",
    "             train_instance_count=1, \n",
    "             train_instance_type='local',\n",
    "             output_path=output,\n",
    "             hyperparameters={\n",
    "                  'normalize': True,\n",
    "                  'test-size': 0.1,\n",
    "                  'random-state': 123\n",
    "             }\n",
    ")\n",
    "\n",
    "sk.fit({'training':training})"
   ]
  },
  {
   "cell_type": "code",
   "execution_count": null,
   "metadata": {},
   "outputs": [],
   "source": [
    "%%sh\n",
    "tar tvfz model.tar.gz"
   ]
  },
  {
   "cell_type": "code",
   "execution_count": null,
   "metadata": {},
   "outputs": [],
   "source": []
  }
 ],
 "metadata": {
  "kernelspec": {
   "display_name": "conda_python3",
   "language": "python",
   "name": "conda_python3"
  },
  "language_info": {
   "codemirror_mode": {
    "name": "ipython",
    "version": 3
   },
   "file_extension": ".py",
   "mimetype": "text/x-python",
   "name": "python",
   "nbconvert_exporter": "python",
   "pygments_lexer": "ipython3",
   "version": "3.6.5"
  }
 },
 "nbformat": 4,
 "nbformat_minor": 4
}
