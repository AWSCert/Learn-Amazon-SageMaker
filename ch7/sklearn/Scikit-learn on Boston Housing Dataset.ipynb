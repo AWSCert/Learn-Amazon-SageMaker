{
 "cells": [
  {
   "cell_type": "code",
   "execution_count": null,
   "metadata": {},
   "outputs": [],
   "source": [
    "%%sh\n",
    "pip -q install pandas scikit-learn joblib"
   ]
  },
  {
   "cell_type": "markdown",
   "metadata": {},
   "source": [
    "# Vanilla code"
   ]
  },
  {
   "cell_type": "code",
   "execution_count": 1,
   "metadata": {},
   "outputs": [
    {
     "name": "stdout",
     "output_type": "stream",
     "text": [
      "Mean squared error: 41.82\n",
      "Coefficient of determination: 0.63\n"
     ]
    },
    {
     "data": {
      "text/plain": [
       "['model.joblib']"
      ]
     },
     "execution_count": 1,
     "metadata": {},
     "output_type": "execute_result"
    }
   ],
   "source": [
    "import pandas as pd\n",
    "from sklearn.linear_model import LinearRegression\n",
    "from sklearn.model_selection import train_test_split\n",
    "from sklearn.metrics import mean_squared_error, r2_score\n",
    "from sklearn.externals import joblib\n",
    "\n",
    "data = pd.read_csv('housing.csv')\n",
    "labels = data[['medv']]\n",
    "samples = data.drop(['medv'], axis=1)\n",
    "X_train, X_test, y_train, y_test = train_test_split(samples, labels, test_size=0.1, random_state=123)\n",
    "regr = LinearRegression(normalize=True)\n",
    "regr.fit(X_train, y_train)\n",
    "y_pred = regr.predict(X_test)\n",
    "print('Mean squared error: %.2f' % mean_squared_error(y_test, y_pred))\n",
    "print('Coefficient of determination: %.2f' % r2_score(y_test, y_pred))\n",
    "joblib.dump(regr, 'model.joblib')"
   ]
  },
  {
   "cell_type": "code",
   "execution_count": null,
   "metadata": {},
   "outputs": [],
   "source": [
    "%%sh\n",
    "export SM_CHANNEL_TRAINING=\n",
    "export SM_MODEL_DIR=\n",
    "python sklearn-boston-housing.py --normalize True --test-size 0.1 --training . --model-dir .\n",
    "ls -l model.joblib"
   ]
  },
  {
   "cell_type": "markdown",
   "metadata": {},
   "source": [
    "## Run with SageMaker Local Mode"
   ]
  },
  {
   "cell_type": "code",
   "execution_count": null,
   "metadata": {},
   "outputs": [],
   "source": [
    "%%sh\n",
    "pip install -q -t . --upgrade joblib"
   ]
  },
  {
   "cell_type": "code",
   "execution_count": 2,
   "metadata": {},
   "outputs": [
    {
     "name": "stderr",
     "output_type": "stream",
     "text": [
      "This is not the latest supported version. If you would like to use version 0.23-1, please add framework_version=0.23-1 to your constructor.\n"
     ]
    },
    {
     "name": "stdout",
     "output_type": "stream",
     "text": [
      "Creating tmpx_m2705n_algo-1-jai3v_1 ... \n",
      "\u001b[1BAttaching to tmpx_m2705n_algo-1-jai3v_12mdone\u001b[0m\n",
      "\u001b[36malgo-1-jai3v_1  |\u001b[0m 2020-07-20 13:39:43,655 sagemaker-containers INFO     Imported framework sagemaker_sklearn_container.training\n",
      "\u001b[36malgo-1-jai3v_1  |\u001b[0m 2020-07-20 13:39:43,658 sagemaker-containers INFO     No GPUs detected (normal if no gpus installed)\n",
      "\u001b[36malgo-1-jai3v_1  |\u001b[0m 2020-07-20 13:39:43,667 sagemaker_sklearn_container.training INFO     Invoking user training script.\n",
      "\u001b[36malgo-1-jai3v_1  |\u001b[0m 2020-07-20 13:39:43,775 sagemaker-containers INFO     Module sklearn-boston-housing does not provide a setup.py. \n",
      "\u001b[36malgo-1-jai3v_1  |\u001b[0m Generating setup.py\n",
      "\u001b[36malgo-1-jai3v_1  |\u001b[0m 2020-07-20 13:39:43,775 sagemaker-containers INFO     Generating setup.cfg\n",
      "\u001b[36malgo-1-jai3v_1  |\u001b[0m 2020-07-20 13:39:43,776 sagemaker-containers INFO     Generating MANIFEST.in\n",
      "\u001b[36malgo-1-jai3v_1  |\u001b[0m 2020-07-20 13:39:43,776 sagemaker-containers INFO     Installing module with the following command:\n",
      "\u001b[36malgo-1-jai3v_1  |\u001b[0m /miniconda3/bin/python -m pip install . \n",
      "\u001b[36malgo-1-jai3v_1  |\u001b[0m Processing /opt/ml/code\n",
      "\u001b[36malgo-1-jai3v_1  |\u001b[0m Building wheels for collected packages: sklearn-boston-housing\n",
      "\u001b[36malgo-1-jai3v_1  |\u001b[0m   Building wheel for sklearn-boston-housing (setup.py) ... \u001b[?25ldone\n",
      "\u001b[36malgo-1-jai3v_1  |\u001b[0m \u001b[?25h  Created wheel for sklearn-boston-housing: filename=sklearn_boston_housing-1.0.0-py2.py3-none-any.whl size=6001 sha256=6c329b4373e1d787d2b471c82721c2dd380d48d5c2bf1aa8bdefd4247c86a39d\n",
      "\u001b[36malgo-1-jai3v_1  |\u001b[0m   Stored in directory: /tmp/pip-ephem-wheel-cache-aqvbkgh7/wheels/35/24/16/37574d11bf9bde50616c67372a334f94fa8356bc7164af8ca3\n",
      "\u001b[36malgo-1-jai3v_1  |\u001b[0m Successfully built sklearn-boston-housing\n",
      "\u001b[36malgo-1-jai3v_1  |\u001b[0m Installing collected packages: sklearn-boston-housing\n",
      "\u001b[36malgo-1-jai3v_1  |\u001b[0m Successfully installed sklearn-boston-housing-1.0.0\n",
      "\u001b[36malgo-1-jai3v_1  |\u001b[0m 2020-07-20 13:39:44,738 sagemaker-containers INFO     No GPUs detected (normal if no gpus installed)\n",
      "\u001b[36malgo-1-jai3v_1  |\u001b[0m 2020-07-20 13:39:44,747 sagemaker-containers INFO     Invoking user script\n",
      "\u001b[36malgo-1-jai3v_1  |\u001b[0m \n",
      "\u001b[36malgo-1-jai3v_1  |\u001b[0m Training Env:\n",
      "\u001b[36malgo-1-jai3v_1  |\u001b[0m \n",
      "\u001b[36malgo-1-jai3v_1  |\u001b[0m {\n",
      "\u001b[36malgo-1-jai3v_1  |\u001b[0m     \"additional_framework_parameters\": {},\n",
      "\u001b[36malgo-1-jai3v_1  |\u001b[0m     \"channel_input_dirs\": {\n",
      "\u001b[36malgo-1-jai3v_1  |\u001b[0m         \"training\": \"/opt/ml/input/data/training\"\n",
      "\u001b[36malgo-1-jai3v_1  |\u001b[0m     },\n",
      "\u001b[36malgo-1-jai3v_1  |\u001b[0m     \"current_host\": \"algo-1-jai3v\",\n",
      "\u001b[36malgo-1-jai3v_1  |\u001b[0m     \"framework_module\": \"sagemaker_sklearn_container.training:main\",\n",
      "\u001b[36malgo-1-jai3v_1  |\u001b[0m     \"hosts\": [\n",
      "\u001b[36malgo-1-jai3v_1  |\u001b[0m         \"algo-1-jai3v\"\n",
      "\u001b[36malgo-1-jai3v_1  |\u001b[0m     ],\n",
      "\u001b[36malgo-1-jai3v_1  |\u001b[0m     \"hyperparameters\": {\n",
      "\u001b[36malgo-1-jai3v_1  |\u001b[0m         \"normalize\": true,\n",
      "\u001b[36malgo-1-jai3v_1  |\u001b[0m         \"test-size\": 0.1\n",
      "\u001b[36malgo-1-jai3v_1  |\u001b[0m     },\n",
      "\u001b[36malgo-1-jai3v_1  |\u001b[0m     \"input_config_dir\": \"/opt/ml/input/config\",\n",
      "\u001b[36malgo-1-jai3v_1  |\u001b[0m     \"input_data_config\": {\n",
      "\u001b[36malgo-1-jai3v_1  |\u001b[0m         \"training\": {\n",
      "\u001b[36malgo-1-jai3v_1  |\u001b[0m             \"TrainingInputMode\": \"File\"\n",
      "\u001b[36malgo-1-jai3v_1  |\u001b[0m         }\n",
      "\u001b[36malgo-1-jai3v_1  |\u001b[0m     },\n",
      "\u001b[36malgo-1-jai3v_1  |\u001b[0m     \"input_dir\": \"/opt/ml/input\",\n",
      "\u001b[36malgo-1-jai3v_1  |\u001b[0m     \"is_master\": true,\n",
      "\u001b[36malgo-1-jai3v_1  |\u001b[0m     \"job_name\": \"sagemaker-scikit-learn-2020-07-20-13-39-41-679\",\n",
      "\u001b[36malgo-1-jai3v_1  |\u001b[0m     \"log_level\": 20,\n",
      "\u001b[36malgo-1-jai3v_1  |\u001b[0m     \"master_hostname\": \"algo-1-jai3v\",\n",
      "\u001b[36malgo-1-jai3v_1  |\u001b[0m     \"model_dir\": \"/opt/ml/model\",\n",
      "\u001b[36malgo-1-jai3v_1  |\u001b[0m     \"module_dir\": \"s3://sagemaker-us-east-1-613904931467/sagemaker-scikit-learn-2020-07-20-13-39-41-679/source/sourcedir.tar.gz\",\n",
      "\u001b[36malgo-1-jai3v_1  |\u001b[0m     \"module_name\": \"sklearn-boston-housing\",\n",
      "\u001b[36malgo-1-jai3v_1  |\u001b[0m     \"network_interface_name\": \"eth0\",\n",
      "\u001b[36malgo-1-jai3v_1  |\u001b[0m     \"num_cpus\": 16,\n",
      "\u001b[36malgo-1-jai3v_1  |\u001b[0m     \"num_gpus\": 0,\n",
      "\u001b[36malgo-1-jai3v_1  |\u001b[0m     \"output_data_dir\": \"/opt/ml/output/data\",\n",
      "\u001b[36malgo-1-jai3v_1  |\u001b[0m     \"output_dir\": \"/opt/ml/output\",\n",
      "\u001b[36malgo-1-jai3v_1  |\u001b[0m     \"output_intermediate_dir\": \"/opt/ml/output/intermediate\",\n",
      "\u001b[36malgo-1-jai3v_1  |\u001b[0m     \"resource_config\": {\n",
      "\u001b[36malgo-1-jai3v_1  |\u001b[0m         \"current_host\": \"algo-1-jai3v\",\n",
      "\u001b[36malgo-1-jai3v_1  |\u001b[0m         \"hosts\": [\n",
      "\u001b[36malgo-1-jai3v_1  |\u001b[0m             \"algo-1-jai3v\"\n",
      "\u001b[36malgo-1-jai3v_1  |\u001b[0m         ]\n",
      "\u001b[36malgo-1-jai3v_1  |\u001b[0m     },\n",
      "\u001b[36malgo-1-jai3v_1  |\u001b[0m     \"user_entry_point\": \"sklearn-boston-housing.py\"\n",
      "\u001b[36malgo-1-jai3v_1  |\u001b[0m }\n",
      "\u001b[36malgo-1-jai3v_1  |\u001b[0m \n",
      "\u001b[36malgo-1-jai3v_1  |\u001b[0m Environment variables:\n",
      "\u001b[36malgo-1-jai3v_1  |\u001b[0m \n",
      "\u001b[36malgo-1-jai3v_1  |\u001b[0m SM_HOSTS=[\"algo-1-jai3v\"]\n",
      "\u001b[36malgo-1-jai3v_1  |\u001b[0m SM_NETWORK_INTERFACE_NAME=eth0\n",
      "\u001b[36malgo-1-jai3v_1  |\u001b[0m SM_HPS={\"normalize\":true,\"test-size\":0.1}\n",
      "\u001b[36malgo-1-jai3v_1  |\u001b[0m SM_USER_ENTRY_POINT=sklearn-boston-housing.py\n",
      "\u001b[36malgo-1-jai3v_1  |\u001b[0m SM_FRAMEWORK_PARAMS={}\n",
      "\u001b[36malgo-1-jai3v_1  |\u001b[0m SM_RESOURCE_CONFIG={\"current_host\":\"algo-1-jai3v\",\"hosts\":[\"algo-1-jai3v\"]}\n",
      "\u001b[36malgo-1-jai3v_1  |\u001b[0m SM_INPUT_DATA_CONFIG={\"training\":{\"TrainingInputMode\":\"File\"}}\n",
      "\u001b[36malgo-1-jai3v_1  |\u001b[0m SM_OUTPUT_DATA_DIR=/opt/ml/output/data\n",
      "\u001b[36malgo-1-jai3v_1  |\u001b[0m SM_CHANNELS=[\"training\"]\n",
      "\u001b[36malgo-1-jai3v_1  |\u001b[0m SM_CURRENT_HOST=algo-1-jai3v\n",
      "\u001b[36malgo-1-jai3v_1  |\u001b[0m SM_MODULE_NAME=sklearn-boston-housing\n",
      "\u001b[36malgo-1-jai3v_1  |\u001b[0m SM_LOG_LEVEL=20\n",
      "\u001b[36malgo-1-jai3v_1  |\u001b[0m SM_FRAMEWORK_MODULE=sagemaker_sklearn_container.training:main\n",
      "\u001b[36malgo-1-jai3v_1  |\u001b[0m SM_INPUT_DIR=/opt/ml/input\n",
      "\u001b[36malgo-1-jai3v_1  |\u001b[0m SM_INPUT_CONFIG_DIR=/opt/ml/input/config\n",
      "\u001b[36malgo-1-jai3v_1  |\u001b[0m SM_OUTPUT_DIR=/opt/ml/output\n",
      "\u001b[36malgo-1-jai3v_1  |\u001b[0m SM_NUM_CPUS=16\n",
      "\u001b[36malgo-1-jai3v_1  |\u001b[0m SM_NUM_GPUS=0\n",
      "\u001b[36malgo-1-jai3v_1  |\u001b[0m SM_MODEL_DIR=/opt/ml/model\n",
      "\u001b[36malgo-1-jai3v_1  |\u001b[0m SM_MODULE_DIR=s3://sagemaker-us-east-1-613904931467/sagemaker-scikit-learn-2020-07-20-13-39-41-679/source/sourcedir.tar.gz\n",
      "\u001b[36malgo-1-jai3v_1  |\u001b[0m SM_TRAINING_ENV={\"additional_framework_parameters\":{},\"channel_input_dirs\":{\"training\":\"/opt/ml/input/data/training\"},\"current_host\":\"algo-1-jai3v\",\"framework_module\":\"sagemaker_sklearn_container.training:main\",\"hosts\":[\"algo-1-jai3v\"],\"hyperparameters\":{\"normalize\":true,\"test-size\":0.1},\"input_config_dir\":\"/opt/ml/input/config\",\"input_data_config\":{\"training\":{\"TrainingInputMode\":\"File\"}},\"input_dir\":\"/opt/ml/input\",\"is_master\":true,\"job_name\":\"sagemaker-scikit-learn-2020-07-20-13-39-41-679\",\"log_level\":20,\"master_hostname\":\"algo-1-jai3v\",\"model_dir\":\"/opt/ml/model\",\"module_dir\":\"s3://sagemaker-us-east-1-613904931467/sagemaker-scikit-learn-2020-07-20-13-39-41-679/source/sourcedir.tar.gz\",\"module_name\":\"sklearn-boston-housing\",\"network_interface_name\":\"eth0\",\"num_cpus\":16,\"num_gpus\":0,\"output_data_dir\":\"/opt/ml/output/data\",\"output_dir\":\"/opt/ml/output\",\"output_intermediate_dir\":\"/opt/ml/output/intermediate\",\"resource_config\":{\"current_host\":\"algo-1-jai3v\",\"hosts\":[\"algo-1-jai3v\"]},\"user_entry_point\":\"sklearn-boston-housing.py\"}\n",
      "\u001b[36malgo-1-jai3v_1  |\u001b[0m SM_USER_ARGS=[\"--normalize\",\"True\",\"--test-size\",\"0.1\"]\n",
      "\u001b[36malgo-1-jai3v_1  |\u001b[0m SM_OUTPUT_INTERMEDIATE_DIR=/opt/ml/output/intermediate\n",
      "\u001b[36malgo-1-jai3v_1  |\u001b[0m SM_CHANNEL_TRAINING=/opt/ml/input/data/training\n",
      "\u001b[36malgo-1-jai3v_1  |\u001b[0m SM_HP_NORMALIZE=true\n",
      "\u001b[36malgo-1-jai3v_1  |\u001b[0m SM_HP_TEST-SIZE=0.1\n",
      "\u001b[36malgo-1-jai3v_1  |\u001b[0m PYTHONPATH=/miniconda3/bin:/miniconda3/lib/python37.zip:/miniconda3/lib/python3.7:/miniconda3/lib/python3.7/lib-dynload:/miniconda3/lib/python3.7/site-packages\n",
      "\u001b[36malgo-1-jai3v_1  |\u001b[0m \n",
      "\u001b[36malgo-1-jai3v_1  |\u001b[0m Invoking script with the following command:\n",
      "\u001b[36malgo-1-jai3v_1  |\u001b[0m \n",
      "\u001b[36malgo-1-jai3v_1  |\u001b[0m /miniconda3/bin/python -m sklearn-boston-housing --normalize True --test-size 0.1\n",
      "\u001b[36malgo-1-jai3v_1  |\u001b[0m \n",
      "\u001b[36malgo-1-jai3v_1  |\u001b[0m \n",
      "\u001b[36malgo-1-jai3v_1  |\u001b[0m /miniconda3/lib/python3.7/site-packages/sklearn/externals/joblib/externals/cloudpickle/cloudpickle.py:47: DeprecationWarning: the imp module is deprecated in favour of importlib; see the module's documentation for alternative uses\n",
      "\u001b[36malgo-1-jai3v_1  |\u001b[0m   import imp\n",
      "\u001b[36malgo-1-jai3v_1  |\u001b[0m Mean squared error: 41.82\n",
      "\u001b[36malgo-1-jai3v_1  |\u001b[0m Coefficient of determination: 0.63\n"
     ]
    },
    {
     "name": "stdout",
     "output_type": "stream",
     "text": [
      "\u001b[36malgo-1-jai3v_1  |\u001b[0m 2020-07-20 13:39:45,398 sagemaker-containers INFO     Reporting training SUCCESS\n",
      "\u001b[36mtmpx_m2705n_algo-1-jai3v_1 exited with code 0\n",
      "\u001b[0mAborting on container exit...\n",
      "===== Job Complete =====\n"
     ]
    }
   ],
   "source": [
    "import sagemaker\n",
    "from sagemaker.sklearn import SKLearn\n",
    "\n",
    "training = 'file://.'\n",
    "output = 'file://.'\n",
    "\n",
    "role = sagemaker.get_execution_role()\n",
    "sk = SKLearn(entry_point='sklearn-boston-housing.py',\n",
    "             role=role,\n",
    "             train_instance_count=1, \n",
    "             train_instance_type='local',\n",
    "             output_path=output,\n",
    "             hyperparameters={\n",
    "                  'normalize': True,\n",
    "                  'test-size': 0.1\n",
    "              }\n",
    ")\n",
    "\n",
    "sk.fit({'training':training})"
   ]
  },
  {
   "cell_type": "code",
   "execution_count": 3,
   "metadata": {},
   "outputs": [
    {
     "name": "stderr",
     "output_type": "stream",
     "text": [
      "Parameter image will be renamed to image_uri in SageMaker Python SDK v2.\n"
     ]
    },
    {
     "name": "stdout",
     "output_type": "stream",
     "text": [
      "Attaching to tmpfa1qzf98_algo-1-7ptcz_1\n",
      "\u001b[36malgo-1-7ptcz_1  |\u001b[0m Processing /opt/ml/code\n",
      "\u001b[36malgo-1-7ptcz_1  |\u001b[0m Building wheels for collected packages: sklearn-boston-housing\n",
      "\u001b[36malgo-1-7ptcz_1  |\u001b[0m   Building wheel for sklearn-boston-housing (setup.py) ... \u001b[?25ldone\n",
      "\u001b[36malgo-1-7ptcz_1  |\u001b[0m \u001b[?25h  Created wheel for sklearn-boston-housing: filename=sklearn_boston_housing-1.0.0-py2.py3-none-any.whl size=6000 sha256=a6295afd04da1a853ddbfd4f690effca8afdab90c4da8fa67e99884b6bd78f3a\n",
      "\u001b[36malgo-1-7ptcz_1  |\u001b[0m   Stored in directory: /tmp/pip-ephem-wheel-cache-oyizfvft/wheels/35/24/16/37574d11bf9bde50616c67372a334f94fa8356bc7164af8ca3\n",
      "\u001b[36malgo-1-7ptcz_1  |\u001b[0m Successfully built sklearn-boston-housing\n",
      "\u001b[36malgo-1-7ptcz_1  |\u001b[0m Installing collected packages: sklearn-boston-housing\n",
      "\u001b[36malgo-1-7ptcz_1  |\u001b[0m Successfully installed sklearn-boston-housing-1.0.0\n",
      "\u001b[36malgo-1-7ptcz_1  |\u001b[0m /miniconda3/lib/python3.7/site-packages/sklearn/externals/joblib/externals/cloudpickle/cloudpickle.py:47: DeprecationWarning: the imp module is deprecated in favour of importlib; see the module's documentation for alternative uses\n",
      "\u001b[36malgo-1-7ptcz_1  |\u001b[0m   import imp\n",
      "\u001b[36malgo-1-7ptcz_1  |\u001b[0m [2020-07-20 13:39:49 +0000] [72] [INFO] Starting gunicorn 19.9.0\n",
      "\u001b[36malgo-1-7ptcz_1  |\u001b[0m [2020-07-20 13:39:49 +0000] [72] [INFO] Listening at: unix:/tmp/gunicorn.sock (72)\n",
      "\u001b[36malgo-1-7ptcz_1  |\u001b[0m [2020-07-20 13:39:49 +0000] [72] [INFO] Using worker: gevent\n",
      "\u001b[36malgo-1-7ptcz_1  |\u001b[0m [2020-07-20 13:39:49 +0000] [75] [INFO] Booting worker with pid: 75\n",
      "\u001b[36malgo-1-7ptcz_1  |\u001b[0m [2020-07-20 13:39:49 +0000] [91] [INFO] Booting worker with pid: 91\n",
      "\u001b[36malgo-1-7ptcz_1  |\u001b[0m [2020-07-20 13:39:49 +0000] [92] [INFO] Booting worker with pid: 92\n",
      "\u001b[36malgo-1-7ptcz_1  |\u001b[0m [2020-07-20 13:39:49 +0000] [93] [INFO] Booting worker with pid: 93\n",
      "\u001b[36malgo-1-7ptcz_1  |\u001b[0m [2020-07-20 13:39:49 +0000] [94] [INFO] Booting worker with pid: 94\n",
      "\u001b[36malgo-1-7ptcz_1  |\u001b[0m [2020-07-20 13:39:49 +0000] [110] [INFO] Booting worker with pid: 110\n",
      "\u001b[36malgo-1-7ptcz_1  |\u001b[0m [2020-07-20 13:39:49 +0000] [156] [INFO] Booting worker with pid: 156\n",
      "\u001b[36malgo-1-7ptcz_1  |\u001b[0m [2020-07-20 13:39:49 +0000] [157] [INFO] Booting worker with pid: 157\n",
      "\u001b[36malgo-1-7ptcz_1  |\u001b[0m [2020-07-20 13:39:49 +0000] [188] [INFO] Booting worker with pid: 188\n",
      "\u001b[36malgo-1-7ptcz_1  |\u001b[0m [2020-07-20 13:39:49 +0000] [189] [INFO] Booting worker with pid: 189\n",
      "\u001b[36malgo-1-7ptcz_1  |\u001b[0m [2020-07-20 13:39:49 +0000] [220] [INFO] Booting worker with pid: 220\n",
      "\u001b[36malgo-1-7ptcz_1  |\u001b[0m [2020-07-20 13:39:50 +0000] [236] [INFO] Booting worker with pid: 236\n",
      "\u001b[36malgo-1-7ptcz_1  |\u001b[0m [2020-07-20 13:39:50 +0000] [252] [INFO] Booting worker with pid: 252\n",
      "\u001b[36malgo-1-7ptcz_1  |\u001b[0m [2020-07-20 13:39:50 +0000] [254] [INFO] Booting worker with pid: 254\n",
      "\u001b[36malgo-1-7ptcz_1  |\u001b[0m [2020-07-20 13:39:50 +0000] [270] [INFO] Booting worker with pid: 270\n",
      "\u001b[36malgo-1-7ptcz_1  |\u001b[0m [2020-07-20 13:39:50 +0000] [287] [INFO] Booting worker with pid: 287\n",
      "\u001b[36malgo-1-7ptcz_1  |\u001b[0m 2020-07-20 13:39:51,163 INFO - sagemaker-containers - No GPUs detected (normal if no gpus installed)\n",
      "\u001b[36malgo-1-7ptcz_1  |\u001b[0m /miniconda3/lib/python3.7/site-packages/sklearn/externals/joblib/externals/cloudpickle/cloudpickle.py:47: DeprecationWarning: the imp module is deprecated in favour of importlib; see the module's documentation for alternative uses\n",
      "\u001b[36malgo-1-7ptcz_1  |\u001b[0m   import imp\n",
      "!\u001b[36malgo-1-7ptcz_1  |\u001b[0m 172.18.0.1 - - [20/Jul/2020:13:39:51 +0000] \"GET /ping HTTP/1.1\" 200 0 \"-\" \"-\"\n"
     ]
    }
   ],
   "source": [
    "sk_predictor = sk.deploy(initial_instance_count=1, instance_type='local')"
   ]
  },
  {
   "cell_type": "code",
   "execution_count": 4,
   "metadata": {},
   "outputs": [
    {
     "name": "stdout",
     "output_type": "stream",
     "text": [
      "0.00632,18.0,2.31,0,0.5379999999999999,6.575,65.2,4.09,1,296.0,15.3,4.98\n",
      "0.02731,0.0,7.07,0,0.469,6.421,78.9,4.9671,2,242.0,17.8,9.14\n",
      "0.02729,0.0,7.07,0,0.469,7.185,61.1,4.9671,2,242.0,17.8,4.03\n",
      "0.03237,0.0,2.18,0,0.45799999999999996,6.997999999999999,45.8,6.0622,3,222.0,18.7,2.94\n",
      "0.06905,0.0,2.18,0,0.45799999999999996,7.147,54.2,6.0622,3,222.0,18.7,5.33\n",
      "0.02985,0.0,2.18,0,0.45799999999999996,6.43,58.7,6.0622,3,222.0,18.7,5.21\n",
      "0.08829,12.5,7.87,0,0.524,6.0120000000000005,66.6,5.5605,5,311.0,15.2,12.43\n",
      "0.14455,12.5,7.87,0,0.524,6.172000000000001,96.1,5.9505,5,311.0,15.2,19.15\n",
      "0.21124,12.5,7.87,0,0.524,5.631,100.0,6.0821,5,311.0,15.2,29.93\n",
      "0.17004,12.5,7.87,0,0.524,6.004,85.9,6.5921,5,311.0,15.2,17.1\n",
      "\n"
     ]
    }
   ],
   "source": [
    "data = pd.read_csv('housing.csv')\n",
    "payload = data[:10].drop(['medv'], axis=1) \n",
    "payload = payload.to_csv(header=False, index=False)\n",
    "print(payload)"
   ]
  },
  {
   "cell_type": "code",
   "execution_count": 5,
   "metadata": {},
   "outputs": [
    {
     "name": "stderr",
     "output_type": "stream",
     "text": [
      "Parameter image will be renamed to image_uri in SageMaker Python SDK v2.\n"
     ]
    },
    {
     "name": "stdout",
     "output_type": "stream",
     "text": [
      "\u001b[36malgo-1-7ptcz_1  |\u001b[0m 2020-07-20 13:39:53,661 INFO - sagemaker-containers - No GPUs detected (normal if no gpus installed)\n",
      "\u001b[36malgo-1-7ptcz_1  |\u001b[0m /miniconda3/lib/python3.7/site-packages/sklearn/externals/joblib/externals/cloudpickle/cloudpickle.py:47: DeprecationWarning: the imp module is deprecated in favour of importlib; see the module's documentation for alternative uses\n",
      "\u001b[36malgo-1-7ptcz_1  |\u001b[0m   import imp\n",
      "\u001b[36malgo-1-7ptcz_1  |\u001b[0m 172.18.0.1 - - [20/Jul/2020:13:39:54 +0000] \"GET /ping HTTP/1.1\" 200 0 \"-\" \"-\"\n",
      "!\u001b[36malgo-1-7ptcz_1  |\u001b[0m 2020-07-20 13:39:54,149 INFO - sagemaker-containers - No GPUs detected (normal if no gpus installed)\n",
      "\u001b[36malgo-1-7ptcz_1  |\u001b[0m /miniconda3/lib/python3.7/site-packages/sklearn/externals/joblib/externals/cloudpickle/cloudpickle.py:47: DeprecationWarning: the imp module is deprecated in favour of importlib; see the module's documentation for alternative uses\n",
      "\u001b[36malgo-1-7ptcz_1  |\u001b[0m   import imp\n",
      "[['29.801388899699845'], ['24.990809475886074'], ['30.7379654455552'], ['28.786967125316544'], ['28.1421501991961'], ['25.301714533101716'], ['22.717977231840184'], ['19.302415613883348'], ['11.369520911229536'], ['18.785593532977657']]\u001b[36malgo-1-7ptcz_1  |\u001b[0m 172.18.0.1 - - [20/Jul/2020:13:39:54 +0000] \"POST /invocations HTTP/1.1\" 200 186 \"-\" \"-\"\n",
      "\n"
     ]
    },
    {
     "name": "stderr",
     "output_type": "stream",
     "text": [
      "Exception in thread Thread-5:\n",
      "Traceback (most recent call last):\n",
      "  File \"/home/ec2-user/anaconda3/envs/python3/lib/python3.6/site-packages/sagemaker/local/image.py\", line 618, in run\n",
      "    _stream_output(self.process)\n",
      "  File \"/home/ec2-user/anaconda3/envs/python3/lib/python3.6/site-packages/sagemaker/local/image.py\", line 677, in _stream_output\n",
      "    raise RuntimeError(\"Process exited with code: %s\" % exit_code)\n",
      "RuntimeError: Process exited with code: 1\n",
      "\n",
      "During handling of the above exception, another exception occurred:\n",
      "\n",
      "Traceback (most recent call last):\n",
      "  File \"/home/ec2-user/anaconda3/envs/python3/lib/python3.6/threading.py\", line 916, in _bootstrap_inner\n",
      "    self.run()\n",
      "  File \"/home/ec2-user/anaconda3/envs/python3/lib/python3.6/site-packages/sagemaker/local/image.py\", line 623, in run\n",
      "    raise RuntimeError(msg)\n",
      "RuntimeError: Failed to run: ['docker-compose', '-f', '/tmp/tmpv66gtfrt/docker-compose.yaml', 'up', '--build', '--abort-on-container-exit'], Process exited with code: 1\n",
      "\n"
     ]
    }
   ],
   "source": [
    "from sagemaker.predictor import csv_serializer, csv_deserializer\n",
    "sk_predictor = sk.deploy(initial_instance_count=1, \n",
    "                         instance_type='local')\n",
    "data = pd.read_csv('housing.csv')\n",
    "payload = data[:10].drop(['medv'], axis=1) \n",
    "payload = payload.to_csv(header=False, index=False)\n",
    "sk_predictor.content_type = 'text/csv'\n",
    "sk_predictor.accept = 'text/csv'\n",
    "sk_predictor.serializer = csv_serializer\n",
    "sk_predictor.deserializer = csv_deserializer\n",
    "response = sk_predictor.predict(payload)\n",
    "\n",
    "print(response)"
   ]
  },
  {
   "cell_type": "code",
   "execution_count": null,
   "metadata": {},
   "outputs": [],
   "source": [
    "sk_predictor.delete_endpoint()"
   ]
  },
  {
   "cell_type": "markdown",
   "metadata": {},
   "source": [
    "## Run with SageMaker managed infrastructure"
   ]
  },
  {
   "cell_type": "code",
   "execution_count": null,
   "metadata": {},
   "outputs": [],
   "source": [
    "sess   = sagemaker.Session()\n",
    "bucket = sess.default_bucket()                     \n",
    "prefix = 'sklearn-boston-housing'\n",
    "\n",
    "training = sess.upload_data(path='housing.csv', key_prefix=prefix + \"/training\")\n",
    "output   = 's3://{}/{}/output/'.format(bucket,prefix)\n",
    "print(training)\n",
    "print(output)"
   ]
  },
  {
   "cell_type": "code",
   "execution_count": null,
   "metadata": {},
   "outputs": [],
   "source": [
    "sk = SKLearn(entry_point='sklearn-boston-housing.py',\n",
    "             role=role,\n",
    "             train_instance_count=1, \n",
    "             train_instance_type='ml.m5.large',\n",
    "             output_path=output,\n",
    "             hyperparameters={\n",
    "                  'normalize': True,\n",
    "                  'test-size': 0.1\n",
    "              }\n",
    ")\n",
    "\n",
    "sk.fit({'training':training})"
   ]
  },
  {
   "cell_type": "code",
   "execution_count": null,
   "metadata": {},
   "outputs": [],
   "source": [
    "sk_predictor = sk.deploy(initial_instance_count=1, instance_type='ml.t2.medium')"
   ]
  },
  {
   "cell_type": "markdown",
   "metadata": {},
   "source": [
    "You can reuse the cells above for prediction."
   ]
  },
  {
   "cell_type": "code",
   "execution_count": null,
   "metadata": {},
   "outputs": [],
   "source": [
    "sk_predictor.delete_endpoint()"
   ]
  },
  {
   "cell_type": "code",
   "execution_count": null,
   "metadata": {},
   "outputs": [],
   "source": []
  },
  {
   "cell_type": "code",
   "execution_count": null,
   "metadata": {},
   "outputs": [],
   "source": []
  }
 ],
 "metadata": {
  "kernelspec": {
   "display_name": "conda_python3",
   "language": "python",
   "name": "conda_python3"
  },
  "language_info": {
   "codemirror_mode": {
    "name": "ipython",
    "version": 3
   },
   "file_extension": ".py",
   "mimetype": "text/x-python",
   "name": "python",
   "nbconvert_exporter": "python",
   "pygments_lexer": "ipython3",
   "version": "3.6.5"
  }
 },
 "nbformat": 4,
 "nbformat_minor": 4
}
