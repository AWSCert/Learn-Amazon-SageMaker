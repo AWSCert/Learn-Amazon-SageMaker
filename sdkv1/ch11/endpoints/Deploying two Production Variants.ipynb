{
 "cells": [
  {
   "cell_type": "code",
   "execution_count": null,
   "metadata": {},
   "outputs": [],
   "source": [
    "# Update with your own model names\n",
    "\n",
    "model_name_1 = 'sagemaker-xgboost-2020-06-09-08-33-24-782'\n",
    "model_name_2 = 'sagemaker-xgboost-2020-02-24-14-41-35-744'"
   ]
  },
  {
   "cell_type": "code",
   "execution_count": null,
   "metadata": {},
   "outputs": [],
   "source": [
    "production_variants = [\n",
    "        {\n",
    "            'VariantName': 'variant-1',\n",
    "            'ModelName': model_name_1,\n",
    "            'InitialInstanceCount': 1,\n",
    "            'InitialVariantWeight': 9,\n",
    "            'InstanceType': 'ml.t2.medium'\n",
    "        },\n",
    "        {\n",
    "            'VariantName': 'variant-2',\n",
    "            'ModelName': model_name_2,\n",
    "            'InitialInstanceCount': 1,\n",
    "            'InitialVariantWeight': 1,\n",
    "            'InstanceType': 'ml.t2.medium'\n",
    "        }\n",
    "]"
   ]
  },
  {
   "cell_type": "code",
   "execution_count": null,
   "metadata": {},
   "outputs": [],
   "source": [
    "import boto3\n",
    "import pprint\n",
    "\n",
    "sm = boto3.client('sagemaker')"
   ]
  },
  {
   "cell_type": "code",
   "execution_count": null,
   "metadata": {},
   "outputs": [],
   "source": [
    "endpoint_config_name = 'xgboost-two-models-epc'"
   ]
  },
  {
   "cell_type": "code",
   "execution_count": null,
   "metadata": {},
   "outputs": [],
   "source": [
    "response = sm.create_endpoint_config(\n",
    "    EndpointConfigName=endpoint_config_name,\n",
    "    ProductionVariants=production_variants,\n",
    "    Tags=[{'Key': 'Name','Value': endpoint_config_name},\n",
    "          {'Key': 'Algorithm','Value': 'xgboost'}]\n",
    ")\n",
    "pprint.pprint(response)"
   ]
  },
  {
   "cell_type": "code",
   "execution_count": null,
   "metadata": {},
   "outputs": [],
   "source": [
    "response = sm.describe_endpoint_config(EndpointConfigName=endpoint_config_name)\n",
    "\n",
    "pprint.pprint(response)"
   ]
  },
  {
   "cell_type": "code",
   "execution_count": null,
   "metadata": {},
   "outputs": [],
   "source": [
    "endpoint_name = 'xgboost-two-models-ep'"
   ]
  },
  {
   "cell_type": "code",
   "execution_count": null,
   "metadata": {},
   "outputs": [],
   "source": [
    "response = sm.create_endpoint(\n",
    "    EndpointName=endpoint_name,\n",
    "    EndpointConfigName=endpoint_config_name,\n",
    "    Tags=[{'Key': 'Name','Value': endpoint_name},\n",
    "          {'Key': 'Algorithm','Value': 'xgboost'},\n",
    "          {'Key': 'Environment','Value': 'development'}]\n",
    ")"
   ]
  },
  {
   "cell_type": "code",
   "execution_count": null,
   "metadata": {},
   "outputs": [],
   "source": [
    "response = sm.describe_endpoint(EndpointName=endpoint_name)\n",
    "\n",
    "pprint.pprint(response)"
   ]
  },
  {
   "cell_type": "code",
   "execution_count": null,
   "metadata": {},
   "outputs": [],
   "source": [
    "test_sample = '0.00632,18.00,2.310,0,0.5380,6.5750,65.20,4.0900,1,296.0,15.30,396.90,4.98'"
   ]
  },
  {
   "cell_type": "code",
   "execution_count": null,
   "metadata": {},
   "outputs": [],
   "source": [
    "smrt = boto3.Session().client(service_name='runtime.sagemaker') \n",
    "\n",
    "# Send to variants according to weights\n",
    "response = smrt.invoke_endpoint(EndpointName=endpoint_name, \n",
    "                                  ContentType='text/csv', \n",
    "                                  Body=test_sample)\n",
    "\n",
    "print(response['Body'].read())"
   ]
  },
  {
   "cell_type": "code",
   "execution_count": null,
   "metadata": {},
   "outputs": [],
   "source": [
    "variants = ['variant-1', 'variant-2']\n",
    "\n",
    "for v in variants:\n",
    "    response = smrt.invoke_endpoint(EndpointName=endpoint_name, \n",
    "                                    ContentType='text/csv', \n",
    "                                    Body=test_sample,\n",
    "                                    TargetVariant=v)\n",
    "    print(response['Body'].read())\n"
   ]
  },
  {
   "cell_type": "code",
   "execution_count": null,
   "metadata": {},
   "outputs": [],
   "source": [
    "response = sm.update_endpoint_weights_and_capacities(\n",
    "    EndpointName=endpoint_name,\n",
    "    DesiredWeightsAndCapacities=[\n",
    "        { 'VariantName': 'variant-1', 'DesiredWeight': 1},\n",
    "        { 'VariantName': 'variant-2', 'DesiredWeight': 1}\n",
    "    ]\n",
    ")"
   ]
  },
  {
   "cell_type": "code",
   "execution_count": null,
   "metadata": {},
   "outputs": [],
   "source": [
    "production_variants_2 = [\n",
    "        {\n",
    "            'VariantName': 'variant-2',\n",
    "            'ModelName': model_name_2,\n",
    "            'InitialInstanceCount': 1,\n",
    "            'InitialVariantWeight': 1,\n",
    "            'InstanceType': 'ml.t2.medium'\n",
    "        }\n",
    "]\n",
    "\n",
    "endpoint_config_name_2 = 'xgboost-one-model-epc'\n",
    "\n",
    "response = sm.create_endpoint_config(\n",
    "    EndpointConfigName=endpoint_config_name_2,\n",
    "    ProductionVariants=production_variants_2,\n",
    "    Tags=[{'Key': 'Name','Value': endpoint_config_name_2},\n",
    "          {'Key': 'Algorithm','Value': 'xgboost'}]\n",
    ")\n",
    "\n",
    "response = sm.update_endpoint(\n",
    "    EndpointName=endpoint_name,\n",
    "    EndpointConfigName=endpoint_config_name_2\n",
    ")"
   ]
  },
  {
   "cell_type": "code",
   "execution_count": null,
   "metadata": {},
   "outputs": [],
   "source": [
    "sm.delete_endpoint(EndpointName=endpoint_name)\n",
    "sm.delete_endpoint_config(EndpointConfigName=endpoint_config_name)\n",
    "sm.delete_endpoint_config(EndpointConfigName=endpoint_config_name_2)"
   ]
  },
  {
   "cell_type": "code",
   "execution_count": null,
   "metadata": {},
   "outputs": [],
   "source": []
  }
 ],
 "metadata": {
  "kernelspec": {
   "display_name": "conda_python3",
   "language": "python",
   "name": "conda_python3"
  },
  "language_info": {
   "codemirror_mode": {
    "name": "ipython",
    "version": 3
   },
   "file_extension": ".py",
   "mimetype": "text/x-python",
   "name": "python",
   "nbconvert_exporter": "python",
   "pygments_lexer": "ipython3",
   "version": "3.6.5"
  }
 },
 "nbformat": 4,
 "nbformat_minor": 4
}
