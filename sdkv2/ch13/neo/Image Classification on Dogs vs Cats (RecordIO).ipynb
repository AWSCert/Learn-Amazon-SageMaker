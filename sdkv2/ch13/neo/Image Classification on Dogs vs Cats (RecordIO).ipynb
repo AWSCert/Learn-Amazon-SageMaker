{
 "cells": [
  {
   "cell_type": "code",
   "execution_count": 1,
   "metadata": {},
   "outputs": [
    {
     "name": "stdout",
     "output_type": "stream",
     "text": [
      "2.0.0rc1\n"
     ]
    }
   ],
   "source": [
    "import boto3\n",
    "import sagemaker\n",
    "\n",
    "print(sagemaker.__version__)\n",
    "\n",
    "session = sagemaker.Session()\n",
    "bucket = session.default_bucket()"
   ]
  },
  {
   "cell_type": "code",
   "execution_count": 2,
   "metadata": {},
   "outputs": [
    {
     "name": "stdout",
     "output_type": "stream",
     "text": [
      "s3://sagemaker-us-east-1-613904931467/dogscats/input/train/\n",
      "s3://sagemaker-us-east-1-613904931467/dogscats/input/validation/\n",
      "s3://sagemaker-us-east-1-613904931467/dogscats/output/\n"
     ]
    }
   ],
   "source": [
    "prefix = 'dogscats'\n",
    "s3_train_path = 's3://{}/{}/input/train/'.format(bucket, prefix)\n",
    "s3_val_path   = 's3://{}/{}/input/validation/'.format(bucket, prefix)\n",
    "s3_output     = 's3://{}/{}/output/'.format(bucket, prefix)\n",
    "\n",
    "print(s3_train_path)\n",
    "print(s3_val_path)\n",
    "print(s3_output)"
   ]
  },
  {
   "cell_type": "markdown",
   "metadata": {},
   "source": [
    "### Get the name of the image classification algorithm in our region"
   ]
  },
  {
   "cell_type": "code",
   "execution_count": 3,
   "metadata": {},
   "outputs": [
    {
     "name": "stdout",
     "output_type": "stream",
     "text": [
      "811284229777.dkr.ecr.us-east-1.amazonaws.com/image-classification:1\n"
     ]
    }
   ],
   "source": [
    "from sagemaker import image_uris\n",
    "\n",
    "region = boto3.Session().region_name    \n",
    "container = image_uris.retrieve('image-classification', region)\n",
    "print(container)"
   ]
  },
  {
   "cell_type": "markdown",
   "metadata": {},
   "source": [
    "### Configure the training job"
   ]
  },
  {
   "cell_type": "code",
   "execution_count": 4,
   "metadata": {},
   "outputs": [],
   "source": [
    "role = sagemaker.get_execution_role()\n",
    "\n",
    "ic = sagemaker.estimator.Estimator(container,\n",
    "                                   role, \n",
    "                                   instance_count=1, \n",
    "                                   instance_type='ml.p3.2xlarge',\n",
    "                                   output_path=s3_output)"
   ]
  },
  {
   "cell_type": "markdown",
   "metadata": {},
   "source": [
    "### Set algorithm parameters"
   ]
  },
  {
   "cell_type": "code",
   "execution_count": 5,
   "metadata": {},
   "outputs": [],
   "source": [
    "#precision_dtype = 'float16'\n",
    "precision_dtype = 'float32'\n",
    "\n",
    "ic.set_hyperparameters(num_layers=50,               # Train a Resnet-50 model\n",
    "                       use_pretrained_model=0,      # Train from scratch\n",
    "                       num_classes=2,               # Dogs and cats\n",
    "                       num_training_samples=22500,  # Number of training samples\n",
    "                       mini_batch_size=128,\n",
    "                       precision_dtype=precision_dtype,\n",
    "                       epochs=30)                   # Learn the training samples 30 times"
   ]
  },
  {
   "cell_type": "markdown",
   "metadata": {},
   "source": [
    "### Set dataset parameters"
   ]
  },
  {
   "cell_type": "code",
   "execution_count": 6,
   "metadata": {},
   "outputs": [],
   "source": [
    "train_data = sagemaker.TrainingInput(s3_train_path, \n",
    "                                        distribution='FullyReplicated', \n",
    "                                        content_type='application/x-recordio',\n",
    "                                        s3_data_type='S3Prefix')\n",
    "\n",
    "validation_data = sagemaker.TrainingInput(s3_val_path,\n",
    "                                             distribution='FullyReplicated', \n",
    "                                             content_type='application/x-recordio', \n",
    "                                             s3_data_type='S3Prefix')\n",
    "\n",
    "s3_channels = {'train': train_data, 'validation': validation_data}"
   ]
  },
  {
   "cell_type": "markdown",
   "metadata": {},
   "source": [
    "### Train the model"
   ]
  },
  {
   "cell_type": "code",
   "execution_count": null,
   "metadata": {
    "scrolled": true
   },
   "outputs": [
    {
     "name": "stdout",
     "output_type": "stream",
     "text": [
      "2020-07-24 17:41:57 Starting - Starting the training job...\n",
      "2020-07-24 17:42:00 Starting - Launching requested ML instances.........\n",
      "2020-07-24 17:43:49 Starting - Preparing the instances for training......\n",
      "2020-07-24 17:44:38 Downloading - Downloading input data...\n",
      "2020-07-24 17:45:16 Training - Downloading the training image...\n",
      "2020-07-24 17:45:50 Training - Training image download completed. Training in progress..\u001b[34mDocker entrypoint called with argument(s): train\u001b[0m\n",
      "\u001b[34m[07/24/2020 17:45:53 INFO 139697773139776] Reading default configuration from /opt/amazon/lib/python2.7/site-packages/image_classification/default-input.json: {u'beta_1': 0.9, u'gamma': 0.9, u'beta_2': 0.999, u'optimizer': u'sgd', u'use_pretrained_model': 0, u'eps': 1e-08, u'epochs': 30, u'lr_scheduler_factor': 0.1, u'num_layers': 152, u'image_shape': u'3,224,224', u'precision_dtype': u'float32', u'mini_batch_size': 32, u'weight_decay': 0.0001, u'learning_rate': 0.1, u'momentum': 0}\u001b[0m\n",
      "\u001b[34m[07/24/2020 17:45:53 INFO 139697773139776] Merging with provided configuration from /opt/ml/input/config/hyperparameters.json: {u'use_pretrained_model': u'0', u'epochs': u'30', u'num_training_samples': u'22500', u'num_layers': u'50', u'mini_batch_size': u'128', u'precision_dtype': u'float32', u'num_classes': u'2'}\u001b[0m\n",
      "\u001b[34m[07/24/2020 17:45:53 INFO 139697773139776] Final configuration: {u'optimizer': u'sgd', u'learning_rate': 0.1, u'epochs': u'30', u'lr_scheduler_factor': 0.1, u'num_layers': u'50', u'precision_dtype': u'float32', u'mini_batch_size': u'128', u'num_classes': u'2', u'beta_1': 0.9, u'beta_2': 0.999, u'use_pretrained_model': u'0', u'eps': 1e-08, u'weight_decay': 0.0001, u'momentum': 0, u'image_shape': u'3,224,224', u'gamma': 0.9, u'num_training_samples': u'22500'}\u001b[0m\n",
      "\u001b[34m[07/24/2020 17:45:53 INFO 139697773139776] Searching for .rec files in /opt/ml/input/data/train.\u001b[0m\n",
      "\u001b[34m[07/24/2020 17:45:53 INFO 139697773139776] Searching for .rec files in /opt/ml/input/data/validation.\u001b[0m\n",
      "\u001b[34m[07/24/2020 17:45:53 INFO 139697773139776] use_pretrained_model: 0\u001b[0m\n",
      "\u001b[34m[07/24/2020 17:45:53 INFO 139697773139776] multi_label: 0\u001b[0m\n",
      "\u001b[34m[07/24/2020 17:45:53 INFO 139697773139776] Performing random weight initialization\u001b[0m\n",
      "\u001b[34m[07/24/2020 17:45:53 INFO 139697773139776] ---- Parameters ----\u001b[0m\n",
      "\u001b[34m[07/24/2020 17:45:53 INFO 139697773139776] num_layers: 50\u001b[0m\n",
      "\u001b[34m[07/24/2020 17:45:53 INFO 139697773139776] data type: <type 'numpy.float32'>\u001b[0m\n",
      "\u001b[34m[07/24/2020 17:45:53 INFO 139697773139776] epochs: 30\u001b[0m\n",
      "\u001b[34m[07/24/2020 17:45:53 INFO 139697773139776] optimizer: sgd\u001b[0m\n",
      "\u001b[34m[07/24/2020 17:45:53 INFO 139697773139776] momentum: 0.9\u001b[0m\n",
      "\u001b[34m[07/24/2020 17:45:53 INFO 139697773139776] weight_decay: 0.0001\u001b[0m\n",
      "\u001b[34m[07/24/2020 17:45:53 INFO 139697773139776] learning_rate: 0.1\u001b[0m\n",
      "\u001b[34m[07/24/2020 17:45:53 INFO 139697773139776] num_training_samples: 22500\u001b[0m\n",
      "\u001b[34m[07/24/2020 17:45:53 INFO 139697773139776] mini_batch_size: 128\u001b[0m\n",
      "\u001b[34m[07/24/2020 17:45:53 INFO 139697773139776] image_shape: 3,224,224\u001b[0m\n",
      "\u001b[34m[07/24/2020 17:45:53 INFO 139697773139776] num_classes: 2\u001b[0m\n",
      "\u001b[34m[07/24/2020 17:45:53 INFO 139697773139776] augmentation_type: None\u001b[0m\n",
      "\u001b[34m[07/24/2020 17:45:53 INFO 139697773139776] kv_store: device\u001b[0m\n",
      "\u001b[34m[07/24/2020 17:45:53 INFO 139697773139776] checkpoint_frequency not set, will store the best model\u001b[0m\n",
      "\u001b[34m[07/24/2020 17:45:53 INFO 139697773139776] --------------------\u001b[0m\n",
      "\u001b[34m[07/24/2020 17:45:54 INFO 139697773139776] Setting number of threads: 7\u001b[0m\n",
      "\u001b[34m[17:46:03] /opt/brazil-pkg-cache/packages/AIAlgorithmsMXNet/AIAlgorithmsMXNet-1.3.x_ecl_Cuda_10.1.x.3437.0/AL2012/generic-flavor/src/src/operator/nn/./cudnn/./cudnn_algoreg-inl.h:97: Running performance tests to find the best convolution algorithm, this can take a while... (setting env variable MXNET_CUDNN_AUTOTUNE_DEFAULT to 0 to disable)\u001b[0m\n",
      "\u001b[34m[07/24/2020 17:46:13 INFO 139697773139776] Epoch[0] Batch [20]#011Speed: 236.625 samples/sec#011accuracy=0.507440\u001b[0m\n",
      "\u001b[34m[07/24/2020 17:46:21 INFO 139697773139776] Epoch[0] Batch [40]#011Speed: 285.121 samples/sec#011accuracy=0.495046\u001b[0m\n",
      "\u001b[34m[07/24/2020 17:46:28 INFO 139697773139776] Epoch[0] Batch [60]#011Speed: 306.021 samples/sec#011accuracy=0.509862\u001b[0m\n",
      "\u001b[34m[07/24/2020 17:46:35 INFO 139697773139776] Epoch[0] Batch [80]#011Speed: 317.554 samples/sec#011accuracy=0.516590\u001b[0m\n",
      "\u001b[34m[07/24/2020 17:46:42 INFO 139697773139776] Epoch[0] Batch [100]#011Speed: 324.806 samples/sec#011accuracy=0.515238\u001b[0m\n",
      "\u001b[34m[07/24/2020 17:46:49 INFO 139697773139776] Epoch[0] Batch [120]#011Speed: 329.864 samples/sec#011accuracy=0.512784\u001b[0m\n",
      "\u001b[34m[07/24/2020 17:46:56 INFO 139697773139776] Epoch[0] Batch [140]#011Speed: 333.489 samples/sec#011accuracy=0.516733\u001b[0m\n",
      "\u001b[34m[07/24/2020 17:47:03 INFO 139697773139776] Epoch[0] Batch [160]#011Speed: 336.215 samples/sec#011accuracy=0.521399\u001b[0m\n",
      "\u001b[34m[07/24/2020 17:47:08 INFO 139697773139776] Epoch[0] Train-accuracy=0.525536\u001b[0m\n",
      "\u001b[34m[07/24/2020 17:47:08 INFO 139697773139776] Epoch[0] Time cost=65.915\u001b[0m\n",
      "\u001b[34m[07/24/2020 17:47:11 INFO 139697773139776] Epoch[0] Validation-accuracy=0.546094\u001b[0m\n",
      "\u001b[34m[07/24/2020 17:47:11 INFO 139697773139776] Storing the best model with validation accuracy: 0.546094\u001b[0m\n",
      "\u001b[34m[07/24/2020 17:47:11 INFO 139697773139776] Saved checkpoint to \"/opt/ml/model/image-classification-0001.params\"\u001b[0m\n",
      "\u001b[34m[07/24/2020 17:47:19 INFO 139697773139776] Epoch[1] Batch [20]#011Speed: 347.080 samples/sec#011accuracy=0.561756\u001b[0m\n",
      "\u001b[34m[07/24/2020 17:47:26 INFO 139697773139776] Epoch[1] Batch [40]#011Speed: 351.319 samples/sec#011accuracy=0.564596\u001b[0m\n",
      "\u001b[34m[07/24/2020 17:47:33 INFO 139697773139776] Epoch[1] Batch [60]#011Speed: 352.685 samples/sec#011accuracy=0.572106\u001b[0m\n",
      "\u001b[34m[07/24/2020 17:47:40 INFO 139697773139776] Epoch[1] Batch [80]#011Speed: 353.274 samples/sec#011accuracy=0.578607\u001b[0m\n",
      "\u001b[34m[07/24/2020 17:47:48 INFO 139697773139776] Epoch[1] Batch [100]#011Speed: 353.651 samples/sec#011accuracy=0.584468\u001b[0m\n",
      "\u001b[34m[07/24/2020 17:47:55 INFO 139697773139776] Epoch[1] Batch [120]#011Speed: 353.784 samples/sec#011accuracy=0.590651\u001b[0m\n",
      "\u001b[34m[07/24/2020 17:48:02 INFO 139697773139776] Epoch[1] Batch [140]#011Speed: 353.801 samples/sec#011accuracy=0.593141\u001b[0m\n",
      "\u001b[34m[07/24/2020 17:48:09 INFO 139697773139776] Epoch[1] Batch [160]#011Speed: 353.803 samples/sec#011accuracy=0.595448\u001b[0m\n",
      "\u001b[34m[07/24/2020 17:48:14 INFO 139697773139776] Epoch[1] Train-accuracy=0.598080\u001b[0m\n",
      "\u001b[34m[07/24/2020 17:48:14 INFO 139697773139776] Epoch[1] Time cost=62.920\u001b[0m\n",
      "\u001b[34m[07/24/2020 17:48:17 INFO 139697773139776] Epoch[1] Validation-accuracy=0.621094\u001b[0m\n",
      "\u001b[34m[07/24/2020 17:48:17 INFO 139697773139776] Storing the best model with validation accuracy: 0.621094\u001b[0m\n",
      "\u001b[34m[07/24/2020 17:48:17 INFO 139697773139776] Saved checkpoint to \"/opt/ml/model/image-classification-0002.params\"\u001b[0m\n",
      "\u001b[34m[07/24/2020 17:48:25 INFO 139697773139776] Epoch[2] Batch [20]#011Speed: 347.188 samples/sec#011accuracy=0.629092\u001b[0m\n",
      "\u001b[34m[07/24/2020 17:48:32 INFO 139697773139776] Epoch[2] Batch [40]#011Speed: 350.615 samples/sec#011accuracy=0.631669\u001b[0m\n",
      "\u001b[34m[07/24/2020 17:48:39 INFO 139697773139776] Epoch[2] Batch [60]#011Speed: 351.686 samples/sec#011accuracy=0.633837\u001b[0m\n",
      "\u001b[34m[07/24/2020 17:48:46 INFO 139697773139776] Epoch[2] Batch [80]#011Speed: 352.137 samples/sec#011accuracy=0.641493\u001b[0m\n",
      "\u001b[34m[07/24/2020 17:48:54 INFO 139697773139776] Epoch[2] Batch [100]#011Speed: 352.076 samples/sec#011accuracy=0.643874\u001b[0m\n",
      "\u001b[34m[07/24/2020 17:49:01 INFO 139697773139776] Epoch[2] Batch [120]#011Speed: 352.252 samples/sec#011accuracy=0.645726\u001b[0m\n",
      "\u001b[34m[07/24/2020 17:49:08 INFO 139697773139776] Epoch[2] Batch [140]#011Speed: 352.327 samples/sec#011accuracy=0.647219\u001b[0m\n",
      "\u001b[34m[07/24/2020 17:49:15 INFO 139697773139776] Epoch[2] Batch [160]#011Speed: 352.478 samples/sec#011accuracy=0.650524\u001b[0m\n",
      "\u001b[34m[07/24/2020 17:49:21 INFO 139697773139776] Epoch[2] Train-accuracy=0.650491\u001b[0m\n",
      "\u001b[34m[07/24/2020 17:49:21 INFO 139697773139776] Epoch[2] Time cost=63.165\u001b[0m\n",
      "\u001b[34m[07/24/2020 17:49:23 INFO 139697773139776] Epoch[2] Validation-accuracy=0.665707\u001b[0m\n",
      "\u001b[34m[07/24/2020 17:49:23 INFO 139697773139776] Storing the best model with validation accuracy: 0.665707\u001b[0m\n",
      "\u001b[34m[07/24/2020 17:49:23 INFO 139697773139776] Saved checkpoint to \"/opt/ml/model/image-classification-0003.params\"\u001b[0m\n"
     ]
    },
    {
     "name": "stdout",
     "output_type": "stream",
     "text": [
      "\u001b[34m[07/24/2020 17:49:31 INFO 139697773139776] Epoch[3] Batch [20]#011Speed: 340.019 samples/sec#011accuracy=0.674479\u001b[0m\n",
      "\u001b[34m[07/24/2020 17:49:38 INFO 139697773139776] Epoch[3] Batch [40]#011Speed: 346.652 samples/sec#011accuracy=0.679688\u001b[0m\n",
      "\u001b[34m[07/24/2020 17:49:45 INFO 139697773139776] Epoch[3] Batch [60]#011Speed: 349.084 samples/sec#011accuracy=0.681481\u001b[0m\n",
      "\u001b[34m[07/24/2020 17:49:53 INFO 139697773139776] Epoch[3] Batch [80]#011Speed: 350.420 samples/sec#011accuracy=0.685089\u001b[0m\n",
      "\u001b[34m[07/24/2020 17:50:00 INFO 139697773139776] Epoch[3] Batch [100]#011Speed: 351.157 samples/sec#011accuracy=0.687500\u001b[0m\n",
      "\u001b[34m[07/24/2020 17:50:07 INFO 139697773139776] Epoch[3] Batch [120]#011Speed: 351.636 samples/sec#011accuracy=0.688985\u001b[0m\n",
      "\u001b[34m[07/24/2020 17:50:14 INFO 139697773139776] Epoch[3] Batch [140]#011Speed: 351.973 samples/sec#011accuracy=0.690270\u001b[0m\n",
      "\u001b[34m[07/24/2020 17:50:22 INFO 139697773139776] Epoch[3] Batch [160]#011Speed: 352.341 samples/sec#011accuracy=0.692741\u001b[0m\n",
      "\u001b[34m[07/24/2020 17:50:27 INFO 139697773139776] Epoch[3] Train-accuracy=0.694286\u001b[0m\n",
      "\u001b[34m[07/24/2020 17:50:27 INFO 139697773139776] Epoch[3] Time cost=63.168\u001b[0m\n",
      "\u001b[34m[07/24/2020 17:50:29 INFO 139697773139776] Epoch[3] Validation-accuracy=0.658594\u001b[0m\n",
      "\u001b[34m[07/24/2020 17:50:37 INFO 139697773139776] Epoch[4] Batch [20]#011Speed: 339.710 samples/sec#011accuracy=0.707217\u001b[0m\n",
      "\u001b[34m[07/24/2020 17:50:44 INFO 139697773139776] Epoch[4] Batch [40]#011Speed: 346.719 samples/sec#011accuracy=0.707889\u001b[0m\n",
      "\u001b[34m[07/24/2020 17:50:51 INFO 139697773139776] Epoch[4] Batch [60]#011Speed: 349.207 samples/sec#011accuracy=0.709529\u001b[0m\n",
      "\u001b[34m[07/24/2020 17:50:59 INFO 139697773139776] Epoch[4] Batch [80]#011Speed: 350.383 samples/sec#011accuracy=0.712095\u001b[0m\n",
      "\u001b[34m[07/24/2020 17:51:06 INFO 139697773139776] Epoch[4] Batch [100]#011Speed: 351.134 samples/sec#011accuracy=0.713103\u001b[0m\n",
      "\u001b[34m[07/24/2020 17:51:13 INFO 139697773139776] Epoch[4] Batch [120]#011Speed: 351.598 samples/sec#011accuracy=0.716038\u001b[0m\n",
      "\u001b[34m[07/24/2020 17:51:20 INFO 139697773139776] Epoch[4] Batch [140]#011Speed: 351.784 samples/sec#011accuracy=0.718528\u001b[0m\n",
      "\u001b[34m[07/24/2020 17:51:28 INFO 139697773139776] Epoch[4] Batch [160]#011Speed: 352.071 samples/sec#011accuracy=0.720303\u001b[0m\n",
      "\u001b[34m[07/24/2020 17:51:33 INFO 139697773139776] Epoch[4] Train-accuracy=0.722679\u001b[0m\n",
      "\u001b[34m[07/24/2020 17:51:33 INFO 139697773139776] Epoch[4] Time cost=63.208\u001b[0m\n",
      "\u001b[34m[07/24/2020 17:51:35 INFO 139697773139776] Epoch[4] Validation-accuracy=0.720806\u001b[0m\n",
      "\u001b[34m[07/24/2020 17:51:35 INFO 139697773139776] Storing the best model with validation accuracy: 0.720806\u001b[0m\n",
      "\u001b[34m[07/24/2020 17:51:36 INFO 139697773139776] Saved checkpoint to \"/opt/ml/model/image-classification-0005.params\"\u001b[0m\n",
      "\u001b[34m[07/24/2020 17:51:43 INFO 139697773139776] Epoch[5] Batch [20]#011Speed: 346.378 samples/sec#011accuracy=0.750000\u001b[0m\n",
      "\u001b[34m[07/24/2020 17:51:50 INFO 139697773139776] Epoch[5] Batch [40]#011Speed: 350.366 samples/sec#011accuracy=0.747142\u001b[0m\n",
      "\u001b[34m[07/24/2020 17:51:57 INFO 139697773139776] Epoch[5] Batch [60]#011Speed: 351.561 samples/sec#011accuracy=0.741291\u001b[0m\n",
      "\u001b[34m[07/24/2020 17:52:05 INFO 139697773139776] Epoch[5] Batch [80]#011Speed: 352.150 samples/sec#011accuracy=0.743345\u001b[0m\n",
      "\u001b[34m[07/24/2020 17:52:12 INFO 139697773139776] Epoch[5] Batch [100]#011Speed: 352.458 samples/sec#011accuracy=0.746983\u001b[0m\n",
      "\u001b[34m[07/24/2020 17:52:19 INFO 139697773139776] Epoch[5] Batch [120]#011Speed: 352.753 samples/sec#011accuracy=0.751033\u001b[0m\n",
      "\u001b[34m[07/24/2020 17:52:26 INFO 139697773139776] Epoch[5] Batch [140]#011Speed: 352.915 samples/sec#011accuracy=0.751496\u001b[0m\n",
      "\u001b[34m[07/24/2020 17:52:34 INFO 139697773139776] Epoch[5] Batch [160]#011Speed: 353.060 samples/sec#011accuracy=0.752814\u001b[0m\n",
      "\u001b[34m[07/24/2020 17:52:39 INFO 139697773139776] Epoch[5] Train-accuracy=0.756116\u001b[0m\n",
      "\u001b[34m[07/24/2020 17:52:39 INFO 139697773139776] Epoch[5] Time cost=63.047\u001b[0m\n",
      "\u001b[34m[07/24/2020 17:52:41 INFO 139697773139776] Epoch[5] Validation-accuracy=0.769922\u001b[0m\n",
      "\u001b[34m[07/24/2020 17:52:41 INFO 139697773139776] Storing the best model with validation accuracy: 0.769922\u001b[0m\n",
      "\u001b[34m[07/24/2020 17:52:42 INFO 139697773139776] Saved checkpoint to \"/opt/ml/model/image-classification-0006.params\"\u001b[0m\n",
      "\u001b[34m[07/24/2020 17:52:49 INFO 139697773139776] Epoch[6] Batch [20]#011Speed: 345.963 samples/sec#011accuracy=0.774554\u001b[0m\n",
      "\u001b[34m[07/24/2020 17:52:56 INFO 139697773139776] Epoch[6] Batch [40]#011Speed: 349.834 samples/sec#011accuracy=0.777058\u001b[0m\n",
      "\u001b[34m[07/24/2020 17:53:03 INFO 139697773139776] Epoch[6] Batch [60]#011Speed: 351.250 samples/sec#011accuracy=0.776895\u001b[0m\n",
      "\u001b[34m[07/24/2020 17:53:11 INFO 139697773139776] Epoch[6] Batch [80]#011Speed: 351.831 samples/sec#011accuracy=0.774691\u001b[0m\n",
      "\u001b[34m[07/24/2020 17:53:18 INFO 139697773139776] Epoch[6] Batch [100]#011Speed: 351.934 samples/sec#011accuracy=0.775062\u001b[0m\n",
      "\u001b[34m[07/24/2020 17:53:25 INFO 139697773139776] Epoch[6] Batch [120]#011Speed: 352.188 samples/sec#011accuracy=0.779055\u001b[0m\n",
      "\u001b[34m[07/24/2020 17:53:32 INFO 139697773139776] Epoch[6] Batch [140]#011Speed: 352.405 samples/sec#011accuracy=0.779145\u001b[0m\n",
      "\u001b[34m[07/24/2020 17:53:40 INFO 139697773139776] Epoch[6] Batch [160]#011Speed: 352.551 samples/sec#011accuracy=0.780959\u001b[0m\n",
      "\u001b[34m[07/24/2020 17:53:45 INFO 139697773139776] Epoch[6] Train-accuracy=0.783705\u001b[0m\n",
      "\u001b[34m[07/24/2020 17:53:45 INFO 139697773139776] Epoch[6] Time cost=63.128\u001b[0m\n",
      "\u001b[34m[07/24/2020 17:53:47 INFO 139697773139776] Epoch[6] Validation-accuracy=0.783717\u001b[0m\n",
      "\u001b[34m[07/24/2020 17:53:47 INFO 139697773139776] Storing the best model with validation accuracy: 0.783717\u001b[0m\n",
      "\u001b[34m[07/24/2020 17:53:48 INFO 139697773139776] Saved checkpoint to \"/opt/ml/model/image-classification-0007.params\"\u001b[0m\n",
      "\u001b[34m[07/24/2020 17:53:55 INFO 139697773139776] Epoch[7] Batch [20]#011Speed: 339.924 samples/sec#011accuracy=0.805804\u001b[0m\n",
      "\u001b[34m[07/24/2020 17:54:02 INFO 139697773139776] Epoch[7] Batch [40]#011Speed: 346.378 samples/sec#011accuracy=0.805259\u001b[0m\n",
      "\u001b[34m[07/24/2020 17:54:10 INFO 139697773139776] Epoch[7] Batch [60]#011Speed: 348.921 samples/sec#011accuracy=0.805712\u001b[0m\n",
      "\u001b[34m[07/24/2020 17:54:17 INFO 139697773139776] Epoch[7] Batch [80]#011Speed: 350.126 samples/sec#011accuracy=0.807002\u001b[0m\n",
      "\u001b[34m[07/24/2020 17:54:24 INFO 139697773139776] Epoch[7] Batch [100]#011Speed: 350.915 samples/sec#011accuracy=0.806931\u001b[0m\n",
      "\u001b[34m[07/24/2020 17:54:31 INFO 139697773139776] Epoch[7] Batch [120]#011Speed: 351.386 samples/sec#011accuracy=0.809336\u001b[0m\n",
      "\u001b[34m[07/24/2020 17:54:39 INFO 139697773139776] Epoch[7] Batch [140]#011Speed: 351.769 samples/sec#011accuracy=0.809286\u001b[0m\n",
      "\u001b[34m[07/24/2020 17:54:46 INFO 139697773139776] Epoch[7] Batch [160]#011Speed: 352.028 samples/sec#011accuracy=0.809346\u001b[0m\n",
      "\u001b[34m[07/24/2020 17:54:51 INFO 139697773139776] Epoch[7] Train-accuracy=0.811384\u001b[0m\n",
      "\u001b[34m[07/24/2020 17:54:51 INFO 139697773139776] Epoch[7] Time cost=63.221\u001b[0m\n",
      "\u001b[34m[07/24/2020 17:54:53 INFO 139697773139776] Epoch[7] Validation-accuracy=0.792969\u001b[0m\n",
      "\u001b[34m[07/24/2020 17:54:54 INFO 139697773139776] Storing the best model with validation accuracy: 0.792969\u001b[0m\n",
      "\u001b[34m[07/24/2020 17:54:54 INFO 139697773139776] Saved checkpoint to \"/opt/ml/model/image-classification-0008.params\"\u001b[0m\n",
      "\u001b[34m[07/24/2020 17:55:01 INFO 139697773139776] Epoch[8] Batch [20]#011Speed: 340.009 samples/sec#011accuracy=0.830729\u001b[0m\n",
      "\u001b[34m[07/24/2020 17:55:09 INFO 139697773139776] Epoch[8] Batch [40]#011Speed: 346.997 samples/sec#011accuracy=0.835556\u001b[0m\n",
      "\u001b[34m[07/24/2020 17:55:16 INFO 139697773139776] Epoch[8] Batch [60]#011Speed: 349.359 samples/sec#011accuracy=0.833504\u001b[0m\n",
      "\u001b[34m[07/24/2020 17:55:23 INFO 139697773139776] Epoch[8] Batch [80]#011Speed: 350.479 samples/sec#011accuracy=0.834394\u001b[0m\n",
      "\u001b[34m[07/24/2020 17:55:30 INFO 139697773139776] Epoch[8] Batch [100]#011Speed: 351.194 samples/sec#011accuracy=0.834004\u001b[0m\n",
      "\u001b[34m[07/24/2020 17:55:37 INFO 139697773139776] Epoch[8] Batch [120]#011Speed: 351.630 samples/sec#011accuracy=0.835550\u001b[0m\n",
      "\u001b[34m[07/24/2020 17:55:45 INFO 139697773139776] Epoch[8] Batch [140]#011Speed: 351.982 samples/sec#011accuracy=0.834663\u001b[0m\n",
      "\u001b[34m[07/24/2020 17:55:52 INFO 139697773139776] Epoch[8] Batch [160]#011Speed: 352.258 samples/sec#011accuracy=0.833123\u001b[0m\n",
      "\u001b[34m[07/24/2020 17:55:57 INFO 139697773139776] Epoch[8] Train-accuracy=0.834955\u001b[0m\n",
      "\u001b[34m[07/24/2020 17:55:57 INFO 139697773139776] Epoch[8] Time cost=63.184\u001b[0m\n",
      "\u001b[34m[07/24/2020 17:55:59 INFO 139697773139776] Epoch[8] Validation-accuracy=0.807566\u001b[0m\n",
      "\u001b[34m[07/24/2020 17:56:00 INFO 139697773139776] Storing the best model with validation accuracy: 0.807566\u001b[0m\n",
      "\u001b[34m[07/24/2020 17:56:00 INFO 139697773139776] Saved checkpoint to \"/opt/ml/model/image-classification-0009.params\"\u001b[0m\n"
     ]
    },
    {
     "name": "stdout",
     "output_type": "stream",
     "text": [
      "\u001b[34m[07/24/2020 17:56:07 INFO 139697773139776] Epoch[9] Batch [20]#011Speed: 340.113 samples/sec#011accuracy=0.853423\u001b[0m\n",
      "\u001b[34m[07/24/2020 17:56:15 INFO 139697773139776] Epoch[9] Batch [40]#011Speed: 346.751 samples/sec#011accuracy=0.852706\u001b[0m\n",
      "\u001b[34m[07/24/2020 17:56:22 INFO 139697773139776] Epoch[9] Batch [60]#011Speed: 349.279 samples/sec#011accuracy=0.849001\u001b[0m\n",
      "\u001b[34m[07/24/2020 17:56:29 INFO 139697773139776] Epoch[9] Batch [80]#011Speed: 350.392 samples/sec#011accuracy=0.850212\u001b[0m\n",
      "\u001b[34m[07/24/2020 17:56:36 INFO 139697773139776] Epoch[9] Batch [100]#011Speed: 350.957 samples/sec#011accuracy=0.849861\u001b[0m\n",
      "\u001b[34m[07/24/2020 17:56:44 INFO 139697773139776] Epoch[9] Batch [120]#011Speed: 351.436 samples/sec#011accuracy=0.853887\u001b[0m\n",
      "\u001b[34m[07/24/2020 17:56:51 INFO 139697773139776] Epoch[9] Batch [140]#011Speed: 351.782 samples/sec#011accuracy=0.852615\u001b[0m\n",
      "\u001b[34m[07/24/2020 17:56:58 INFO 139697773139776] Epoch[9] Batch [160]#011Speed: 352.070 samples/sec#011accuracy=0.850349\u001b[0m\n",
      "\u001b[34m[07/24/2020 17:57:03 INFO 139697773139776] Epoch[9] Train-accuracy=0.852187\u001b[0m\n",
      "\u001b[34m[07/24/2020 17:57:03 INFO 139697773139776] Epoch[9] Time cost=63.215\u001b[0m\n",
      "\u001b[34m[07/24/2020 17:57:06 INFO 139697773139776] Epoch[9] Validation-accuracy=0.820703\u001b[0m\n",
      "\u001b[34m[07/24/2020 17:57:06 INFO 139697773139776] Storing the best model with validation accuracy: 0.820703\u001b[0m\n",
      "\u001b[34m[07/24/2020 17:57:06 INFO 139697773139776] Saved checkpoint to \"/opt/ml/model/image-classification-0010.params\"\u001b[0m\n",
      "\u001b[34m[07/24/2020 17:57:13 INFO 139697773139776] Epoch[10] Batch [20]#011Speed: 345.791 samples/sec#011accuracy=0.880580\u001b[0m\n",
      "\u001b[34m[07/24/2020 17:57:21 INFO 139697773139776] Epoch[10] Batch [40]#011Speed: 349.951 samples/sec#011accuracy=0.871761\u001b[0m\n",
      "\u001b[34m[07/24/2020 17:57:28 INFO 139697773139776] Epoch[10] Batch [60]#011Speed: 351.383 samples/sec#011accuracy=0.868852\u001b[0m\n",
      "\u001b[34m[07/24/2020 17:57:35 INFO 139697773139776] Epoch[10] Batch [80]#011Speed: 352.039 samples/sec#011accuracy=0.866995\u001b[0m\n",
      "\u001b[34m[07/24/2020 17:57:42 INFO 139697773139776] Epoch[10] Batch [100]#011Speed: 352.403 samples/sec#011accuracy=0.866182\u001b[0m\n",
      "\u001b[34m[07/24/2020 17:57:50 INFO 139697773139776] Epoch[10] Batch [120]#011Speed: 352.626 samples/sec#011accuracy=0.869124\u001b[0m\n",
      "\u001b[34m[07/24/2020 17:57:57 INFO 139697773139776] Epoch[10] Batch [140]#011Speed: 352.819 samples/sec#011accuracy=0.869847\u001b[0m\n",
      "\u001b[34m[07/24/2020 17:58:04 INFO 139697773139776] Epoch[10] Batch [160]#011Speed: 352.961 samples/sec#011accuracy=0.867188\u001b[0m\n",
      "\u001b[34m[07/24/2020 17:58:09 INFO 139697773139776] Epoch[10] Train-accuracy=0.866295\u001b[0m\n",
      "\u001b[34m[07/24/2020 17:58:09 INFO 139697773139776] Epoch[10] Time cost=63.065\u001b[0m\n",
      "\u001b[34m[07/24/2020 17:58:12 INFO 139697773139776] Epoch[10] Validation-accuracy=0.796053\u001b[0m\n",
      "\u001b[34m[07/24/2020 17:58:19 INFO 139697773139776] Epoch[11] Batch [20]#011Speed: 346.545 samples/sec#011accuracy=0.891369\u001b[0m\n",
      "\u001b[34m[07/24/2020 17:58:27 INFO 139697773139776] Epoch[11] Batch [40]#011Speed: 350.204 samples/sec#011accuracy=0.891387\u001b[0m\n",
      "\u001b[34m[07/24/2020 17:58:34 INFO 139697773139776] Epoch[11] Batch [60]#011Speed: 351.422 samples/sec#011accuracy=0.888320\u001b[0m\n",
      "\u001b[34m[07/24/2020 17:58:41 INFO 139697773139776] Epoch[11] Batch [80]#011Speed: 352.039 samples/sec#011accuracy=0.888117\u001b[0m\n",
      "\u001b[34m[07/24/2020 17:58:48 INFO 139697773139776] Epoch[11] Batch [100]#011Speed: 352.462 samples/sec#011accuracy=0.888923\u001b[0m\n",
      "\u001b[34m[07/24/2020 17:58:55 INFO 139697773139776] Epoch[11] Batch [120]#011Speed: 352.655 samples/sec#011accuracy=0.891335\u001b[0m\n",
      "\u001b[34m[07/24/2020 17:59:03 INFO 139697773139776] Epoch[11] Batch [140]#011Speed: 352.873 samples/sec#011accuracy=0.891124\u001b[0m\n",
      "\u001b[34m[07/24/2020 17:59:10 INFO 139697773139776] Epoch[11] Batch [160]#011Speed: 353.013 samples/sec#011accuracy=0.886694\u001b[0m\n",
      "\u001b[34m[07/24/2020 17:59:15 INFO 139697773139776] Epoch[11] Train-accuracy=0.887232\u001b[0m\n",
      "\u001b[34m[07/24/2020 17:59:15 INFO 139697773139776] Epoch[11] Time cost=63.049\u001b[0m\n",
      "\u001b[34m[07/24/2020 17:59:18 INFO 139697773139776] Epoch[11] Validation-accuracy=0.824609\u001b[0m\n",
      "\u001b[34m[07/24/2020 17:59:18 INFO 139697773139776] Storing the best model with validation accuracy: 0.824609\u001b[0m\n",
      "\u001b[34m[07/24/2020 17:59:18 INFO 139697773139776] Saved checkpoint to \"/opt/ml/model/image-classification-0012.params\"\u001b[0m\n",
      "\u001b[34m[07/24/2020 17:59:25 INFO 139697773139776] Epoch[12] Batch [20]#011Speed: 340.250 samples/sec#011accuracy=0.909226\u001b[0m\n",
      "\u001b[34m[07/24/2020 17:59:33 INFO 139697773139776] Epoch[12] Batch [40]#011Speed: 346.903 samples/sec#011accuracy=0.907203\u001b[0m\n",
      "\u001b[34m[07/24/2020 17:59:40 INFO 139697773139776] Epoch[12] Batch [60]#011Speed: 349.271 samples/sec#011accuracy=0.903817\u001b[0m\n",
      "\u001b[34m[07/24/2020 17:59:47 INFO 139697773139776] Epoch[12] Batch [80]#011Speed: 350.419 samples/sec#011accuracy=0.905382\u001b[0m\n",
      "\u001b[34m[07/24/2020 17:59:54 INFO 139697773139776] Epoch[12] Batch [100]#011Speed: 351.112 samples/sec#011accuracy=0.905090\u001b[0m\n",
      "\u001b[34m[07/24/2020 18:00:02 INFO 139697773139776] Epoch[12] Batch [120]#011Speed: 351.605 samples/sec#011accuracy=0.903926\u001b[0m\n",
      "\u001b[34m[07/24/2020 18:00:09 INFO 139697773139776] Epoch[12] Batch [140]#011Speed: 351.919 samples/sec#011accuracy=0.904477\u001b[0m\n",
      "\u001b[34m[07/24/2020 18:00:16 INFO 139697773139776] Epoch[12] Batch [160]#011Speed: 352.203 samples/sec#011accuracy=0.903339\u001b[0m\n",
      "\u001b[34m[07/24/2020 18:00:21 INFO 139697773139776] Epoch[12] Train-accuracy=0.903259\u001b[0m\n",
      "\u001b[34m[07/24/2020 18:00:21 INFO 139697773139776] Epoch[12] Time cost=63.190\u001b[0m\n",
      "\u001b[34m[07/24/2020 18:00:24 INFO 139697773139776] Epoch[12] Validation-accuracy=0.816201\u001b[0m\n",
      "\u001b[34m[07/24/2020 18:00:31 INFO 139697773139776] Epoch[13] Batch [20]#011Speed: 340.181 samples/sec#011accuracy=0.917039\u001b[0m\n",
      "\u001b[34m[07/24/2020 18:00:39 INFO 139697773139776] Epoch[13] Batch [40]#011Speed: 347.019 samples/sec#011accuracy=0.917683\u001b[0m\n",
      "\u001b[34m[07/24/2020 18:00:46 INFO 139697773139776] Epoch[13] Batch [60]#011Speed: 349.358 samples/sec#011accuracy=0.911373\u001b[0m\n",
      "\u001b[34m[07/24/2020 18:00:53 INFO 139697773139776] Epoch[13] Batch [80]#011Speed: 350.499 samples/sec#011accuracy=0.912616\u001b[0m\n",
      "\u001b[34m[07/24/2020 18:01:00 INFO 139697773139776] Epoch[13] Batch [100]#011Speed: 351.215 samples/sec#011accuracy=0.912515\u001b[0m\n",
      "\u001b[34m[07/24/2020 18:01:08 INFO 139697773139776] Epoch[13] Batch [120]#011Speed: 351.663 samples/sec#011accuracy=0.914773\u001b[0m\n",
      "\u001b[34m[07/24/2020 18:01:15 INFO 139697773139776] Epoch[13] Batch [140]#011Speed: 351.981 samples/sec#011accuracy=0.914007\u001b[0m\n",
      "\u001b[34m[07/24/2020 18:01:22 INFO 139697773139776] Epoch[13] Batch [160]#011Speed: 352.230 samples/sec#011accuracy=0.913383\u001b[0m\n",
      "\u001b[34m[07/24/2020 18:01:27 INFO 139697773139776] Epoch[13] Train-accuracy=0.913929\u001b[0m\n",
      "\u001b[34m[07/24/2020 18:01:27 INFO 139697773139776] Epoch[13] Time cost=63.178\u001b[0m\n",
      "\u001b[34m[07/24/2020 18:01:30 INFO 139697773139776] Epoch[13] Validation-accuracy=0.819141\u001b[0m\n",
      "\u001b[34m[07/24/2020 18:01:37 INFO 139697773139776] Epoch[14] Batch [20]#011Speed: 346.675 samples/sec#011accuracy=0.928943\u001b[0m\n",
      "\u001b[34m[07/24/2020 18:01:45 INFO 139697773139776] Epoch[14] Batch [40]#011Speed: 350.140 samples/sec#011accuracy=0.928735\u001b[0m\n",
      "\u001b[34m[07/24/2020 18:01:52 INFO 139697773139776] Epoch[14] Batch [60]#011Speed: 351.407 samples/sec#011accuracy=0.922259\u001b[0m\n",
      "\u001b[34m[07/24/2020 18:01:59 INFO 139697773139776] Epoch[14] Batch [80]#011Speed: 351.964 samples/sec#011accuracy=0.921200\u001b[0m\n",
      "\u001b[34m[07/24/2020 18:02:06 INFO 139697773139776] Epoch[14] Batch [100]#011Speed: 352.277 samples/sec#011accuracy=0.921411\u001b[0m\n",
      "\u001b[34m[07/24/2020 18:02:14 INFO 139697773139776] Epoch[14] Batch [120]#011Speed: 352.527 samples/sec#011accuracy=0.921940\u001b[0m\n",
      "\u001b[34m[07/24/2020 18:02:21 INFO 139697773139776] Epoch[14] Batch [140]#011Speed: 352.725 samples/sec#011accuracy=0.923759\u001b[0m\n",
      "\u001b[34m[07/24/2020 18:02:28 INFO 139697773139776] Epoch[14] Batch [160]#011Speed: 352.888 samples/sec#011accuracy=0.924592\u001b[0m\n",
      "\u001b[34m[07/24/2020 18:02:33 INFO 139697773139776] Epoch[14] Train-accuracy=0.925893\u001b[0m\n",
      "\u001b[34m[07/24/2020 18:02:33 INFO 139697773139776] Epoch[14] Time cost=63.084\u001b[0m\n",
      "\u001b[34m[07/24/2020 18:02:36 INFO 139697773139776] Epoch[14] Validation-accuracy=0.805921\u001b[0m\n",
      "\u001b[34m[07/24/2020 18:02:43 INFO 139697773139776] Epoch[15] Batch [20]#011Speed: 346.414 samples/sec#011accuracy=0.928943\u001b[0m\n",
      "\u001b[34m[07/24/2020 18:02:51 INFO 139697773139776] Epoch[15] Batch [40]#011Speed: 349.973 samples/sec#011accuracy=0.930069\u001b[0m\n"
     ]
    },
    {
     "name": "stdout",
     "output_type": "stream",
     "text": [
      "\u001b[34m[07/24/2020 18:02:58 INFO 139697773139776] Epoch[15] Batch [60]#011Speed: 351.237 samples/sec#011accuracy=0.926998\u001b[0m\n",
      "\u001b[34m[07/24/2020 18:03:05 INFO 139697773139776] Epoch[15] Batch [80]#011Speed: 352.025 samples/sec#011accuracy=0.928241\u001b[0m\n",
      "\u001b[34m[07/24/2020 18:03:12 INFO 139697773139776] Epoch[15] Batch [100]#011Speed: 352.351 samples/sec#011accuracy=0.931002\u001b[0m\n",
      "\u001b[34m[07/24/2020 18:03:19 INFO 139697773139776] Epoch[15] Batch [120]#011Speed: 352.641 samples/sec#011accuracy=0.929817\u001b[0m\n",
      "\u001b[34m[07/24/2020 18:03:27 INFO 139697773139776] Epoch[15] Batch [140]#011Speed: 352.811 samples/sec#011accuracy=0.931184\u001b[0m\n",
      "\u001b[34m[07/24/2020 18:03:34 INFO 139697773139776] Epoch[15] Batch [160]#011Speed: 352.954 samples/sec#011accuracy=0.931240\u001b[0m\n",
      "\u001b[34m[07/24/2020 18:03:39 INFO 139697773139776] Epoch[15] Train-accuracy=0.931830\u001b[0m\n",
      "\u001b[34m[07/24/2020 18:03:39 INFO 139697773139776] Epoch[15] Time cost=63.065\u001b[0m\n",
      "\u001b[34m[07/24/2020 18:03:42 INFO 139697773139776] Epoch[15] Validation-accuracy=0.815625\u001b[0m\n",
      "\u001b[34m[07/24/2020 18:03:49 INFO 139697773139776] Epoch[16] Batch [20]#011Speed: 339.532 samples/sec#011accuracy=0.937128\u001b[0m\n",
      "\u001b[34m[07/24/2020 18:03:57 INFO 139697773139776] Epoch[16] Batch [40]#011Speed: 346.611 samples/sec#011accuracy=0.942645\u001b[0m\n",
      "\u001b[34m[07/24/2020 18:04:04 INFO 139697773139776] Epoch[16] Batch [60]#011Speed: 349.135 samples/sec#011accuracy=0.944800\u001b[0m\n",
      "\u001b[34m[07/24/2020 18:04:11 INFO 139697773139776] Epoch[16] Batch [80]#011Speed: 350.359 samples/sec#011accuracy=0.941937\u001b[0m\n",
      "\u001b[34m[07/24/2020 18:04:18 INFO 139697773139776] Epoch[16] Batch [100]#011Speed: 351.112 samples/sec#011accuracy=0.939743\u001b[0m\n",
      "\u001b[34m[07/24/2020 18:04:26 INFO 139697773139776] Epoch[16] Batch [120]#011Speed: 351.579 samples/sec#011accuracy=0.938146\u001b[0m\n",
      "\u001b[34m[07/24/2020 18:04:33 INFO 139697773139776] Epoch[16] Batch [140]#011Speed: 351.885 samples/sec#011accuracy=0.938608\u001b[0m\n",
      "\u001b[34m[07/24/2020 18:04:40 INFO 139697773139776] Epoch[16] Batch [160]#011Speed: 352.164 samples/sec#011accuracy=0.939781\u001b[0m\n",
      "\u001b[34m[07/24/2020 18:04:45 INFO 139697773139776] Epoch[16] Train-accuracy=0.940804\u001b[0m\n",
      "\u001b[34m[07/24/2020 18:04:45 INFO 139697773139776] Epoch[16] Time cost=63.192\u001b[0m\n",
      "\u001b[34m[07/24/2020 18:04:48 INFO 139697773139776] Epoch[16] Validation-accuracy=0.804297\u001b[0m\n",
      "\u001b[34m[07/24/2020 18:04:56 INFO 139697773139776] Epoch[17] Batch [20]#011Speed: 340.117 samples/sec#011accuracy=0.959821\u001b[0m\n",
      "\u001b[34m[07/24/2020 18:05:03 INFO 139697773139776] Epoch[17] Batch [40]#011Speed: 346.782 samples/sec#011accuracy=0.957508\u001b[0m\n",
      "\u001b[34m[07/24/2020 18:05:10 INFO 139697773139776] Epoch[17] Batch [60]#011Speed: 349.020 samples/sec#011accuracy=0.955815\u001b[0m\n",
      "\u001b[34m[07/24/2020 18:05:17 INFO 139697773139776] Epoch[17] Batch [80]#011Speed: 350.202 samples/sec#011accuracy=0.955343\u001b[0m\n",
      "\u001b[34m[07/24/2020 18:05:24 INFO 139697773139776] Epoch[17] Batch [100]#011Speed: 351.032 samples/sec#011accuracy=0.953899\u001b[0m\n",
      "\u001b[34m[07/24/2020 18:05:32 INFO 139697773139776] Epoch[17] Batch [120]#011Speed: 351.479 samples/sec#011accuracy=0.954287\u001b[0m\n",
      "\u001b[34m[07/24/2020 18:05:39 INFO 139697773139776] Epoch[17] Batch [140]#011Speed: 351.834 samples/sec#011accuracy=0.954233\u001b[0m\n",
      "\u001b[34m[07/24/2020 18:05:46 INFO 139697773139776] Epoch[17] Batch [160]#011Speed: 352.087 samples/sec#011accuracy=0.954144\u001b[0m\n",
      "\u001b[34m[07/24/2020 18:05:51 INFO 139697773139776] Epoch[17] Train-accuracy=0.955000\u001b[0m\n",
      "\u001b[34m[07/24/2020 18:05:51 INFO 139697773139776] Epoch[17] Time cost=63.204\u001b[0m\n",
      "\u001b[34m[07/24/2020 18:05:54 INFO 139697773139776] Epoch[17] Validation-accuracy=0.836760\u001b[0m\n",
      "\u001b[34m[07/24/2020 18:05:54 INFO 139697773139776] Storing the best model with validation accuracy: 0.836760\u001b[0m\n",
      "\u001b[34m[07/24/2020 18:05:54 INFO 139697773139776] Saved checkpoint to \"/opt/ml/model/image-classification-0018.params\"\u001b[0m\n",
      "\u001b[34m[07/24/2020 18:06:02 INFO 139697773139776] Epoch[18] Batch [20]#011Speed: 340.574 samples/sec#011accuracy=0.968006\u001b[0m\n",
      "\u001b[34m[07/24/2020 18:06:09 INFO 139697773139776] Epoch[18] Batch [40]#011Speed: 347.344 samples/sec#011accuracy=0.961890\u001b[0m\n",
      "\u001b[34m[07/24/2020 18:06:16 INFO 139697773139776] Epoch[18] Batch [60]#011Speed: 349.666 samples/sec#011accuracy=0.957223\u001b[0m\n",
      "\u001b[34m[07/24/2020 18:06:23 INFO 139697773139776] Epoch[18] Batch [80]#011Speed: 350.767 samples/sec#011accuracy=0.954475\u001b[0m\n",
      "\u001b[34m[07/24/2020 18:06:30 INFO 139697773139776] Epoch[18] Batch [100]#011Speed: 351.429 samples/sec#011accuracy=0.953589\u001b[0m\n",
      "\u001b[34m[07/24/2020 18:06:38 INFO 139697773139776] Epoch[18] Batch [120]#011Speed: 351.950 samples/sec#011accuracy=0.955062\u001b[0m\n",
      "\u001b[34m[07/24/2020 18:06:45 INFO 139697773139776] Epoch[18] Batch [140]#011Speed: 352.215 samples/sec#011accuracy=0.955286\u001b[0m\n",
      "\u001b[34m[07/24/2020 18:06:52 INFO 139697773139776] Epoch[18] Batch [160]#011Speed: 352.452 samples/sec#011accuracy=0.953853\u001b[0m\n",
      "\u001b[34m[07/24/2020 18:06:57 INFO 139697773139776] Epoch[18] Train-accuracy=0.954330\u001b[0m\n",
      "\u001b[34m[07/24/2020 18:06:57 INFO 139697773139776] Epoch[18] Time cost=63.143\u001b[0m\n",
      "\u001b[34m[07/24/2020 18:07:00 INFO 139697773139776] Epoch[18] Validation-accuracy=0.829688\u001b[0m\n",
      "\u001b[34m[07/24/2020 18:07:07 INFO 139697773139776] Epoch[19] Batch [20]#011Speed: 346.773 samples/sec#011accuracy=0.964286\u001b[0m\n",
      "\u001b[34m[07/24/2020 18:07:15 INFO 139697773139776] Epoch[19] Batch [40]#011Speed: 350.151 samples/sec#011accuracy=0.965701\u001b[0m\n",
      "\u001b[34m[07/24/2020 18:07:22 INFO 139697773139776] Epoch[19] Batch [60]#011Speed: 351.399 samples/sec#011accuracy=0.963755\u001b[0m\n",
      "\u001b[34m[07/24/2020 18:07:29 INFO 139697773139776] Epoch[19] Batch [80]#011Speed: 352.020 samples/sec#011accuracy=0.964024\u001b[0m\n",
      "\u001b[34m[07/24/2020 18:07:36 INFO 139697773139776] Epoch[19] Batch [100]#011Speed: 352.396 samples/sec#011accuracy=0.960705\u001b[0m\n",
      "\u001b[34m[07/24/2020 18:07:44 INFO 139697773139776] Epoch[19] Batch [120]#011Speed: 352.645 samples/sec#011accuracy=0.960550\u001b[0m\n",
      "\u001b[34m[07/24/2020 18:07:51 INFO 139697773139776] Epoch[19] Batch [140]#011Speed: 352.835 samples/sec#011accuracy=0.960716\u001b[0m\n",
      "\u001b[34m[07/24/2020 18:07:58 INFO 139697773139776] Epoch[19] Batch [160]#011Speed: 352.991 samples/sec#011accuracy=0.959967\u001b[0m\n",
      "\u001b[34m[07/24/2020 18:08:03 INFO 139697773139776] Epoch[19] Train-accuracy=0.961205\u001b[0m\n",
      "\u001b[34m[07/24/2020 18:08:03 INFO 139697773139776] Epoch[19] Time cost=63.053\u001b[0m\n",
      "\u001b[34m[07/24/2020 18:08:06 INFO 139697773139776] Epoch[19] Validation-accuracy=0.828947\u001b[0m\n",
      "\u001b[34m[07/24/2020 18:08:13 INFO 139697773139776] Epoch[20] Batch [20]#011Speed: 346.786 samples/sec#011accuracy=0.961682\u001b[0m\n",
      "\u001b[34m[07/24/2020 18:08:21 INFO 139697773139776] Epoch[20] Batch [40]#011Speed: 350.251 samples/sec#011accuracy=0.967988\u001b[0m\n",
      "\u001b[34m[07/24/2020 18:08:28 INFO 139697773139776] Epoch[20] Batch [60]#011Speed: 351.593 samples/sec#011accuracy=0.969262\u001b[0m\n",
      "\u001b[34m[07/24/2020 18:08:35 INFO 139697773139776] Epoch[20] Batch [80]#011Speed: 352.351 samples/sec#011accuracy=0.969907\u001b[0m\n",
      "\u001b[34m[07/24/2020 18:08:42 INFO 139697773139776] Epoch[20] Batch [100]#011Speed: 352.698 samples/sec#011accuracy=0.968209\u001b[0m\n",
      "\u001b[34m[07/24/2020 18:08:49 INFO 139697773139776] Epoch[20] Batch [120]#011Speed: 352.911 samples/sec#011accuracy=0.967394\u001b[0m\n",
      "\u001b[34m[07/24/2020 18:08:57 INFO 139697773139776] Epoch[20] Batch [140]#011Speed: 353.033 samples/sec#011accuracy=0.966755\u001b[0m\n",
      "\u001b[34m[07/24/2020 18:09:04 INFO 139697773139776] Epoch[20] Batch [160]#011Speed: 353.166 samples/sec#011accuracy=0.966518\u001b[0m\n",
      "\u001b[34m[07/24/2020 18:09:09 INFO 139697773139776] Epoch[20] Train-accuracy=0.966652\u001b[0m\n",
      "\u001b[34m[07/24/2020 18:09:09 INFO 139697773139776] Epoch[20] Time cost=63.028\u001b[0m\n",
      "\u001b[34m[07/24/2020 18:09:12 INFO 139697773139776] Epoch[20] Validation-accuracy=0.834766\u001b[0m\n",
      "\u001b[34m[07/24/2020 18:09:19 INFO 139697773139776] Epoch[21] Batch [20]#011Speed: 340.592 samples/sec#011accuracy=0.969494\u001b[0m\n",
      "\u001b[34m[07/24/2020 18:09:27 INFO 139697773139776] Epoch[21] Batch [40]#011Speed: 347.027 samples/sec#011accuracy=0.971608\u001b[0m\n",
      "\u001b[34m[07/24/2020 18:09:34 INFO 139697773139776] Epoch[21] Batch [60]#011Speed: 349.367 samples/sec#011accuracy=0.970927\u001b[0m\n",
      "\u001b[34m[07/24/2020 18:09:41 INFO 139697773139776] Epoch[21] Batch [80]#011Speed: 350.570 samples/sec#011accuracy=0.968750\u001b[0m\n",
      "\u001b[34m[07/24/2020 18:09:48 INFO 139697773139776] Epoch[21] Batch [100]#011Speed: 351.276 samples/sec#011accuracy=0.969369\u001b[0m\n",
      "\u001b[34m[07/24/2020 18:09:56 INFO 139697773139776] Epoch[21] Batch [120]#011Speed: 351.743 samples/sec#011accuracy=0.970429\u001b[0m\n",
      "\u001b[34m[07/24/2020 18:10:03 INFO 139697773139776] Epoch[21] Batch [140]#011Speed: 352.047 samples/sec#011accuracy=0.971133\u001b[0m\n"
     ]
    },
    {
     "name": "stdout",
     "output_type": "stream",
     "text": [
      "\u001b[34m[07/24/2020 18:10:10 INFO 139697773139776] Epoch[21] Batch [160]#011Speed: 352.321 samples/sec#011accuracy=0.970740\u001b[0m\n",
      "\u001b[34m[07/24/2020 18:10:15 INFO 139697773139776] Epoch[21] Train-accuracy=0.971295\u001b[0m\n",
      "\u001b[34m[07/24/2020 18:10:15 INFO 139697773139776] Epoch[21] Time cost=63.165\u001b[0m\n",
      "\u001b[34m[07/24/2020 18:10:18 INFO 139697773139776] Epoch[21] Validation-accuracy=0.837171\u001b[0m\n",
      "\u001b[34m[07/24/2020 18:10:18 INFO 139697773139776] Storing the best model with validation accuracy: 0.837171\u001b[0m\n",
      "\u001b[34m[07/24/2020 18:10:18 INFO 139697773139776] Saved checkpoint to \"/opt/ml/model/image-classification-0022.params\"\u001b[0m\n",
      "\u001b[34m[07/24/2020 18:10:25 INFO 139697773139776] Epoch[22] Batch [20]#011Speed: 339.767 samples/sec#011accuracy=0.974330\u001b[0m\n",
      "\u001b[34m[07/24/2020 18:10:33 INFO 139697773139776] Epoch[22] Batch [40]#011Speed: 346.807 samples/sec#011accuracy=0.974085\u001b[0m\n",
      "\u001b[34m[07/24/2020 18:10:40 INFO 139697773139776] Epoch[22] Batch [60]#011Speed: 349.353 samples/sec#011accuracy=0.972848\u001b[0m\n",
      "\u001b[34m[07/24/2020 18:10:47 INFO 139697773139776] Epoch[22] Batch [80]#011Speed: 350.585 samples/sec#011accuracy=0.973090\u001b[0m\n",
      "\u001b[34m[07/24/2020 18:10:54 INFO 139697773139776] Epoch[22] Batch [100]#011Speed: 351.103 samples/sec#011accuracy=0.972076\u001b[0m\n",
      "\u001b[34m[07/24/2020 18:11:02 INFO 139697773139776] Epoch[22] Batch [120]#011Speed: 351.565 samples/sec#011accuracy=0.972818\u001b[0m\n",
      "\u001b[34m[07/24/2020 18:11:09 INFO 139697773139776] Epoch[22] Batch [140]#011Speed: 351.923 samples/sec#011accuracy=0.973570\u001b[0m\n",
      "\u001b[34m[07/24/2020 18:11:16 INFO 139697773139776] Epoch[22] Batch [160]#011Speed: 352.198 samples/sec#011accuracy=0.974136\u001b[0m\n",
      "\u001b[34m[07/24/2020 18:11:21 INFO 139697773139776] Epoch[22] Train-accuracy=0.974688\u001b[0m\n",
      "\u001b[34m[07/24/2020 18:11:21 INFO 139697773139776] Epoch[22] Time cost=63.183\u001b[0m\n",
      "\u001b[34m[07/24/2020 18:11:24 INFO 139697773139776] Epoch[22] Validation-accuracy=0.841406\u001b[0m\n",
      "\u001b[34m[07/24/2020 18:11:24 INFO 139697773139776] Storing the best model with validation accuracy: 0.841406\u001b[0m\n",
      "\u001b[34m[07/24/2020 18:11:24 INFO 139697773139776] Saved checkpoint to \"/opt/ml/model/image-classification-0023.params\"\u001b[0m\n",
      "\u001b[34m[07/24/2020 18:11:31 INFO 139697773139776] Epoch[23] Batch [20]#011Speed: 346.461 samples/sec#011accuracy=0.978051\u001b[0m\n",
      "\u001b[34m[07/24/2020 18:11:39 INFO 139697773139776] Epoch[23] Batch [40]#011Speed: 350.270 samples/sec#011accuracy=0.979230\u001b[0m\n",
      "\u001b[34m[07/24/2020 18:11:46 INFO 139697773139776] Epoch[23] Batch [60]#011Speed: 351.563 samples/sec#011accuracy=0.979252\u001b[0m\n",
      "\u001b[34m[07/24/2020 18:11:53 INFO 139697773139776] Epoch[23] Batch [80]#011Speed: 352.141 samples/sec#011accuracy=0.979070\u001b[0m\n",
      "\u001b[34m[07/24/2020 18:12:00 INFO 139697773139776] Epoch[23] Batch [100]#011Speed: 352.359 samples/sec#011accuracy=0.977181\u001b[0m\n",
      "\u001b[34m[07/24/2020 18:12:08 INFO 139697773139776] Epoch[23] Batch [120]#011Speed: 352.659 samples/sec#011accuracy=0.977725\u001b[0m\n",
      "\u001b[34m[07/24/2020 18:12:15 INFO 139697773139776] Epoch[23] Batch [140]#011Speed: 352.911 samples/sec#011accuracy=0.976840\u001b[0m\n",
      "\u001b[34m[07/24/2020 18:12:22 INFO 139697773139776] Epoch[23] Batch [160]#011Speed: 353.108 samples/sec#011accuracy=0.977096\u001b[0m\n",
      "\u001b[34m[07/24/2020 18:12:27 INFO 139697773139776] Epoch[23] Train-accuracy=0.977545\u001b[0m\n",
      "\u001b[34m[07/24/2020 18:12:27 INFO 139697773139776] Epoch[23] Time cost=63.031\u001b[0m\n",
      "\u001b[34m[07/24/2020 18:12:30 INFO 139697773139776] Epoch[23] Validation-accuracy=0.828536\u001b[0m\n",
      "\u001b[34m[07/24/2020 18:12:37 INFO 139697773139776] Epoch[24] Batch [20]#011Speed: 346.871 samples/sec#011accuracy=0.988095\u001b[0m\n",
      "\u001b[34m[07/24/2020 18:12:44 INFO 139697773139776] Epoch[24] Batch [40]#011Speed: 350.539 samples/sec#011accuracy=0.985899\u001b[0m\n",
      "\u001b[34m[07/24/2020 18:12:52 INFO 139697773139776] Epoch[24] Batch [60]#011Speed: 351.582 samples/sec#011accuracy=0.982838\u001b[0m\n",
      "\u001b[34m[07/24/2020 18:12:59 INFO 139697773139776] Epoch[24] Batch [80]#011Speed: 352.212 samples/sec#011accuracy=0.982157\u001b[0m\n",
      "\u001b[34m[07/24/2020 18:13:06 INFO 139697773139776] Epoch[24] Batch [100]#011Speed: 352.658 samples/sec#011accuracy=0.979502\u001b[0m\n",
      "\u001b[34m[07/24/2020 18:13:13 INFO 139697773139776] Epoch[24] Batch [120]#011Speed: 352.870 samples/sec#011accuracy=0.978306\u001b[0m\n",
      "\u001b[34m[07/24/2020 18:13:21 INFO 139697773139776] Epoch[24] Batch [140]#011Speed: 353.027 samples/sec#011accuracy=0.977892\u001b[0m\n",
      "\u001b[34m[07/24/2020 18:13:28 INFO 139697773139776] Epoch[24] Batch [160]#011Speed: 353.149 samples/sec#011accuracy=0.976951\u001b[0m\n",
      "\u001b[34m[07/24/2020 18:13:33 INFO 139697773139776] Epoch[24] Train-accuracy=0.977187\u001b[0m\n",
      "\u001b[34m[07/24/2020 18:13:33 INFO 139697773139776] Epoch[24] Time cost=63.028\u001b[0m\n",
      "\u001b[34m[07/24/2020 18:13:36 INFO 139697773139776] Epoch[24] Validation-accuracy=0.849219\u001b[0m\n",
      "\u001b[34m[07/24/2020 18:13:36 INFO 139697773139776] Storing the best model with validation accuracy: 0.849219\u001b[0m\n",
      "\u001b[34m[07/24/2020 18:13:36 INFO 139697773139776] Saved checkpoint to \"/opt/ml/model/image-classification-0025.params\"\u001b[0m\n",
      "\u001b[34m[07/24/2020 18:13:43 INFO 139697773139776] Epoch[25] Batch [20]#011Speed: 339.895 samples/sec#011accuracy=0.986607\u001b[0m\n",
      "\u001b[34m[07/24/2020 18:13:51 INFO 139697773139776] Epoch[25] Batch [40]#011Speed: 346.971 samples/sec#011accuracy=0.986471\u001b[0m\n",
      "\u001b[34m[07/24/2020 18:13:58 INFO 139697773139776] Epoch[25] Batch [60]#011Speed: 349.388 samples/sec#011accuracy=0.985015\u001b[0m\n",
      "\u001b[34m[07/24/2020 18:14:05 INFO 139697773139776] Epoch[25] Batch [80]#011Speed: 350.534 samples/sec#011accuracy=0.984568\u001b[0m\n",
      "\u001b[34m[07/24/2020 18:14:12 INFO 139697773139776] Epoch[25] Batch [100]#011Speed: 351.192 samples/sec#011accuracy=0.984375\u001b[0m\n",
      "\u001b[34m[07/24/2020 18:14:20 INFO 139697773139776] Epoch[25] Batch [120]#011Speed: 351.577 samples/sec#011accuracy=0.983342\u001b[0m\n",
      "\u001b[34m[07/24/2020 18:14:27 INFO 139697773139776] Epoch[25] Batch [140]#011Speed: 351.981 samples/sec#011accuracy=0.983544\u001b[0m\n",
      "\u001b[34m[07/24/2020 18:14:34 INFO 139697773139776] Epoch[25] Batch [160]#011Speed: 352.229 samples/sec#011accuracy=0.983599\u001b[0m\n",
      "\u001b[34m[07/24/2020 18:14:39 INFO 139697773139776] Epoch[25] Train-accuracy=0.983348\u001b[0m\n",
      "\u001b[34m[07/24/2020 18:14:39 INFO 139697773139776] Epoch[25] Time cost=63.183\u001b[0m\n",
      "\u001b[34m[07/24/2020 18:14:42 INFO 139697773139776] Epoch[25] Validation-accuracy=0.856086\u001b[0m\n",
      "\u001b[34m[07/24/2020 18:14:42 INFO 139697773139776] Storing the best model with validation accuracy: 0.856086\u001b[0m\n",
      "\u001b[34m[07/24/2020 18:14:42 INFO 139697773139776] Saved checkpoint to \"/opt/ml/model/image-classification-0026.params\"\u001b[0m\n",
      "\u001b[34m[07/24/2020 18:14:49 INFO 139697773139776] Epoch[26] Batch [20]#011Speed: 339.827 samples/sec#011accuracy=0.984747\u001b[0m\n",
      "\u001b[34m[07/24/2020 18:14:57 INFO 139697773139776] Epoch[26] Batch [40]#011Speed: 346.734 samples/sec#011accuracy=0.985899\u001b[0m\n",
      "\u001b[34m[07/24/2020 18:15:04 INFO 139697773139776] Epoch[26] Batch [60]#011Speed: 349.152 samples/sec#011accuracy=0.986808\u001b[0m\n",
      "\u001b[34m[07/24/2020 18:15:11 INFO 139697773139776] Epoch[26] Batch [80]#011Speed: 350.365 samples/sec#011accuracy=0.986690\u001b[0m\n",
      "\u001b[34m[07/24/2020 18:15:18 INFO 139697773139776] Epoch[26] Batch [100]#011Speed: 351.105 samples/sec#011accuracy=0.985922\u001b[0m\n",
      "\u001b[34m[07/24/2020 18:15:26 INFO 139697773139776] Epoch[26] Batch [120]#011Speed: 351.507 samples/sec#011accuracy=0.985473\u001b[0m\n",
      "\u001b[34m[07/24/2020 18:15:33 INFO 139697773139776] Epoch[26] Batch [140]#011Speed: 351.851 samples/sec#011accuracy=0.984818\u001b[0m\n",
      "\u001b[34m[07/24/2020 18:15:40 INFO 139697773139776] Epoch[26] Batch [160]#011Speed: 352.151 samples/sec#011accuracy=0.984812\u001b[0m\n",
      "\u001b[34m[07/24/2020 18:15:45 INFO 139697773139776] Epoch[26] Train-accuracy=0.984598\u001b[0m\n",
      "\u001b[34m[07/24/2020 18:15:45 INFO 139697773139776] Epoch[26] Time cost=63.185\u001b[0m\n",
      "\u001b[34m[07/24/2020 18:15:48 INFO 139697773139776] Epoch[26] Validation-accuracy=0.836719\u001b[0m\n",
      "\u001b[34m[07/24/2020 18:15:56 INFO 139697773139776] Epoch[27] Batch [20]#011Speed: 340.014 samples/sec#011accuracy=0.989583\u001b[0m\n"
     ]
    }
   ],
   "source": [
    "ic.fit(inputs=s3_channels)"
   ]
  },
  {
   "cell_type": "markdown",
   "metadata": {},
   "source": [
    "### Deploy the model"
   ]
  },
  {
   "cell_type": "code",
   "execution_count": null,
   "metadata": {},
   "outputs": [],
   "source": [
    "import time\n",
    "\n",
    "ic_endpoint_name = 'ic-'+time.strftime(\"%Y-%m-%d-%H-%M-%S\", time.gmtime())\n",
    "\n",
    "ic_predictor = ic.deploy(initial_instance_count=1,\n",
    "                         instance_type='ml.c5.4xlarge',\n",
    "                         endpoint_name=ic_endpoint_name,\n",
    "                         wait=False)"
   ]
  },
  {
   "cell_type": "markdown",
   "metadata": {},
   "source": [
    "## Compile and deploy the model with Neo"
   ]
  },
  {
   "cell_type": "code",
   "execution_count": 10,
   "metadata": {},
   "outputs": [
    {
     "name": "stdout",
     "output_type": "stream",
     "text": [
      "?.............!"
     ]
    },
    {
     "name": "stderr",
     "output_type": "stream",
     "text": [
      "'create_image_uri' will be deprecated in favor of 'ImageURIProvider' class in SageMaker Python SDK v2.\n"
     ]
    }
   ],
   "source": [
    "output_path = 's3://{}/{}/output-neo/'.format(bucket, prefix)\n",
    "\n",
    "ic_neo_model = ic.compile_model(target_instance_family='ml_c5', \n",
    "                                   input_shape={'data':[1, 3, 224, 224]},\n",
    "                                   role=role,\n",
    "                                   framework='mxnet',\n",
    "                                   framework_version='1.5.1',\n",
    "                                   output_path=output_path)"
   ]
  },
  {
   "cell_type": "code",
   "execution_count": null,
   "metadata": {},
   "outputs": [
    {
     "name": "stdout",
     "output_type": "stream",
     "text": [
      "ic-neo-2020-07-24-20-05-38\n",
      "785573368785.dkr.ecr.us-east-1.amazonaws.com/image-classification-neo:latest\n",
      "------------"
     ]
    }
   ],
   "source": [
    "ic_neo_endpoint_name = 'ic-neo-'+time.strftime(\"%Y-%m-%d-%H-%M-%S\", time.gmtime())\n",
    "print(ic_neo_endpoint_name)\n",
    "\n",
    "ic_neo_model.image_uri = image_uris.retrieve('image-classification-neo', region)\n",
    "print(ic_neo_model.image_uri)\n",
    "\n",
    "\n",
    "ic_neo_predictor = ic_neo_model.deploy(endpoint_name=ic_neo_endpoint_name, \n",
    "                        initial_instance_count=1, \n",
    "                        instance_type='ml.c5.4xlarge')"
   ]
  },
  {
   "cell_type": "markdown",
   "metadata": {},
   "source": [
    "### Download a test image"
   ]
  },
  {
   "cell_type": "code",
   "execution_count": null,
   "metadata": {},
   "outputs": [],
   "source": [
    "!wget -O /tmp/test.jpg https://upload.wikimedia.org/wikipedia/commons/b/b7/LabradorWeaving.jpg\n",
    "file_name = '/tmp/test.jpg'\n",
    "from IPython.display import Image\n",
    "Image(file_name)"
   ]
  },
  {
   "cell_type": "markdown",
   "metadata": {},
   "source": [
    "### Predict test image"
   ]
  },
  {
   "cell_type": "code",
   "execution_count": null,
   "metadata": {},
   "outputs": [],
   "source": [
    "# Load test image from file\n",
    "with open(file_name, 'rb') as f:\n",
    "    payload = f.read()\n",
    "    payload = bytearray(payload)\n",
    "\n",
    "def predict_images(predictor, iterations=1000):\n",
    "    total = 0\n",
    "    predictor.content_type = 'application/x-image'\n",
    "    for i in range(0, iterations):\n",
    "        tick = time.time()\n",
    "        response = predictor.predict(payload)\n",
    "        tock = time.time()\n",
    "        total += tock-tick\n",
    "    return total/iterations"
   ]
  },
  {
   "cell_type": "code",
   "execution_count": null,
   "metadata": {},
   "outputs": [],
   "source": [
    "%%time\n",
    "predict_images(ic_predictor)"
   ]
  },
  {
   "cell_type": "code",
   "execution_count": null,
   "metadata": {},
   "outputs": [],
   "source": [
    "%%time\n",
    "predict_images(ic_neo_predictor)"
   ]
  },
  {
   "cell_type": "code",
   "execution_count": null,
   "metadata": {},
   "outputs": [],
   "source": [
    "%%sh -s $output_path\n",
    "echo $1\n",
    "aws s3 ls $1\n",
    "aws s3 cp $1model-ml_c5.tar.gz .\n",
    "tar xvfz model-ml_c5.tar.gz"
   ]
  },
  {
   "cell_type": "markdown",
   "metadata": {},
   "source": [
    "### Delete endpoints"
   ]
  },
  {
   "cell_type": "code",
   "execution_count": null,
   "metadata": {},
   "outputs": [],
   "source": [
    "ic_predictor.delete_endpoint()"
   ]
  },
  {
   "cell_type": "code",
   "execution_count": null,
   "metadata": {},
   "outputs": [],
   "source": [
    "ic_neo_predictor.delete_endpoint()"
   ]
  },
  {
   "cell_type": "code",
   "execution_count": null,
   "metadata": {},
   "outputs": [],
   "source": []
  },
  {
   "cell_type": "code",
   "execution_count": null,
   "metadata": {},
   "outputs": [],
   "source": [
    "output_path = 's3://{}/{}/output-neo/'.format(bucket, prefix)\n",
    "\n",
    "ic_neo_model = ic.compile_model(target_instance_family='rasp3b', \n",
    "                                   input_shape={'data':[1, 3, 224, 224]},\n",
    "                                   role=role,\n",
    "                                   framework='mxnet',\n",
    "                                   framework_version='1.5.1',\n",
    "                                   output_path=output_path)"
   ]
  },
  {
   "cell_type": "code",
   "execution_count": null,
   "metadata": {},
   "outputs": [],
   "source": []
  }
 ],
 "metadata": {
  "kernelspec": {
   "display_name": "conda_python3",
   "language": "python",
   "name": "conda_python3"
  },
  "language_info": {
   "codemirror_mode": {
    "name": "ipython",
    "version": 3
   },
   "file_extension": ".py",
   "mimetype": "text/x-python",
   "name": "python",
   "nbconvert_exporter": "python",
   "pygments_lexer": "ipython3",
   "version": "3.6.5"
  }
 },
 "nbformat": 4,
 "nbformat_minor": 2
}
