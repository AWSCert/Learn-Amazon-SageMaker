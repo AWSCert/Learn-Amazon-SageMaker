{
 "cells": [
  {
   "cell_type": "code",
   "execution_count": null,
   "metadata": {},
   "outputs": [],
   "source": [
    "%%sh\n",
    "pygmentize sklearn-boston-housing.py"
   ]
  },
  {
   "cell_type": "code",
   "execution_count": 2,
   "metadata": {},
   "outputs": [
    {
     "name": "stdout",
     "output_type": "stream",
     "text": [
      "s3://sagemaker-us-east-1-613904931467/sklearn-boston-housing/training/housing.csv\n",
      "s3://sagemaker-us-east-1-613904931467/sklearn-boston-housing/output/\n"
     ]
    }
   ],
   "source": [
    "import sagemaker\n",
    "\n",
    "sess   = sagemaker.Session()\n",
    "bucket = sess.default_bucket()                     \n",
    "prefix = 'sklearn-boston-housing'\n",
    "\n",
    "training = sess.upload_data(path='housing.csv', key_prefix=prefix + \"/training\")\n",
    "output   = 's3://{}/{}/output/'.format(bucket,prefix)\n",
    "print(training)\n",
    "print(output)"
   ]
  },
  {
   "cell_type": "code",
   "execution_count": 5,
   "metadata": {},
   "outputs": [
    {
     "name": "stderr",
     "output_type": "stream",
     "text": [
      "'s3_input' class will be renamed to 'TrainingInput' in SageMaker Python SDK v2.\n"
     ]
    },
    {
     "name": "stdout",
     "output_type": "stream",
     "text": [
      "2020-06-12 08:23:47 Starting - Starting the training job...\n",
      "2020-06-12 08:23:49 Starting - Launching requested ML instances.........\n",
      "2020-06-12 08:25:34 Starting - Preparing the instances for training...\n",
      "2020-06-12 08:26:14 Downloading - Downloading input data...\n",
      "2020-06-12 08:26:48 Training - Downloading the training image...\n",
      "2020-06-12 08:27:03 Training - Training image download completed. Training in progress.\u001b[34m2020-06-12 08:27:03,732 sagemaker-containers INFO     Imported framework sagemaker_sklearn_container.training\u001b[0m\n",
      "\u001b[34m2020-06-12 08:27:03,735 sagemaker-containers INFO     No GPUs detected (normal if no gpus installed)\u001b[0m\n",
      "\u001b[34m2020-06-12 08:27:03,744 sagemaker_sklearn_container.training INFO     Invoking user training script.\u001b[0m\n",
      "\n",
      "2020-06-12 08:28:17 Uploading - Uploading generated training model\n",
      "2020-06-12 08:28:17 Completed - Training job completed\n",
      "\u001b[34m2020-06-12 08:28:04,887 sagemaker-containers INFO     Module sklearn-boston-housing does not provide a setup.py. \u001b[0m\n",
      "\u001b[34mGenerating setup.py\u001b[0m\n",
      "\u001b[34m2020-06-12 08:28:04,887 sagemaker-containers INFO     Generating setup.cfg\u001b[0m\n",
      "\u001b[34m2020-06-12 08:28:04,888 sagemaker-containers INFO     Generating MANIFEST.in\u001b[0m\n",
      "\u001b[34m2020-06-12 08:28:04,888 sagemaker-containers INFO     Installing module with the following command:\u001b[0m\n",
      "\u001b[34m/miniconda3/bin/python -m pip install . \u001b[0m\n",
      "\u001b[34mProcessing /opt/ml/code\u001b[0m\n",
      "\u001b[34mBuilding wheels for collected packages: sklearn-boston-housing\n",
      "  Building wheel for sklearn-boston-housing (setup.py): started\n",
      "  Building wheel for sklearn-boston-housing (setup.py): finished with status 'done'\n",
      "  Created wheel for sklearn-boston-housing: filename=sklearn_boston_housing-1.0.0-py2.py3-none-any.whl size=6029 sha256=8f66218114f327e24133600bfa842caf219ccf27c5e96d4aba200db97649a8d9\n",
      "  Stored in directory: /tmp/pip-ephem-wheel-cache-gkmy455z/wheels/35/24/16/37574d11bf9bde50616c67372a334f94fa8356bc7164af8ca3\u001b[0m\n",
      "\u001b[34mSuccessfully built sklearn-boston-housing\u001b[0m\n",
      "\u001b[34mInstalling collected packages: sklearn-boston-housing\u001b[0m\n",
      "\u001b[34mSuccessfully installed sklearn-boston-housing-1.0.0\u001b[0m\n",
      "\u001b[34m2020-06-12 08:28:06,185 sagemaker-containers INFO     No GPUs detected (normal if no gpus installed)\u001b[0m\n",
      "\u001b[34m2020-06-12 08:28:06,195 sagemaker-containers INFO     Invoking user script\n",
      "\u001b[0m\n",
      "\u001b[34mTraining Env:\n",
      "\u001b[0m\n",
      "\u001b[34m{\n",
      "    \"additional_framework_parameters\": {},\n",
      "    \"channel_input_dirs\": {\n",
      "        \"training\": \"/opt/ml/input/data/training\"\n",
      "    },\n",
      "    \"current_host\": \"algo-1\",\n",
      "    \"framework_module\": \"sagemaker_sklearn_container.training:main\",\n",
      "    \"hosts\": [\n",
      "        \"algo-1\"\n",
      "    ],\n",
      "    \"hyperparameters\": {\n",
      "        \"normalize\": true,\n",
      "        \"test-size\": 0.1\n",
      "    },\n",
      "    \"input_config_dir\": \"/opt/ml/input/config\",\n",
      "    \"input_data_config\": {\n",
      "        \"training\": {\n",
      "            \"TrainingInputMode\": \"File\",\n",
      "            \"S3DistributionType\": \"FullyReplicated\",\n",
      "            \"RecordWrapperType\": \"None\"\n",
      "        }\n",
      "    },\n",
      "    \"input_dir\": \"/opt/ml/input\",\n",
      "    \"is_master\": true,\n",
      "    \"job_name\": \"sagemaker-scikit-learn-2020-06-12-08-23-47-446\",\n",
      "    \"log_level\": 20,\n",
      "    \"master_hostname\": \"algo-1\",\n",
      "    \"model_dir\": \"/opt/ml/model\",\n",
      "    \"module_dir\": \"s3://sagemaker-us-east-1-613904931467/sagemaker-scikit-learn-2020-06-12-08-23-47-446/source/sourcedir.tar.gz\",\n",
      "    \"module_name\": \"sklearn-boston-housing\",\n",
      "    \"network_interface_name\": \"eth0\",\n",
      "    \"num_cpus\": 2,\n",
      "    \"num_gpus\": 0,\n",
      "    \"output_data_dir\": \"/opt/ml/output/data\",\n",
      "    \"output_dir\": \"/opt/ml/output\",\n",
      "    \"output_intermediate_dir\": \"/opt/ml/output/intermediate\",\n",
      "    \"resource_config\": {\n",
      "        \"current_host\": \"algo-1\",\n",
      "        \"hosts\": [\n",
      "            \"algo-1\"\n",
      "        ],\n",
      "        \"network_interface_name\": \"eth0\"\n",
      "    },\n",
      "    \"user_entry_point\": \"sklearn-boston-housing.py\"\u001b[0m\n",
      "\u001b[34m}\n",
      "\u001b[0m\n",
      "\u001b[34mEnvironment variables:\n",
      "\u001b[0m\n",
      "\u001b[34mSM_HOSTS=[\"algo-1\"]\u001b[0m\n",
      "\u001b[34mSM_NETWORK_INTERFACE_NAME=eth0\u001b[0m\n",
      "\u001b[34mSM_HPS={\"normalize\":true,\"test-size\":0.1}\u001b[0m\n",
      "\u001b[34mSM_USER_ENTRY_POINT=sklearn-boston-housing.py\u001b[0m\n",
      "\u001b[34mSM_FRAMEWORK_PARAMS={}\u001b[0m\n",
      "\u001b[34mSM_RESOURCE_CONFIG={\"current_host\":\"algo-1\",\"hosts\":[\"algo-1\"],\"network_interface_name\":\"eth0\"}\u001b[0m\n",
      "\u001b[34mSM_INPUT_DATA_CONFIG={\"training\":{\"RecordWrapperType\":\"None\",\"S3DistributionType\":\"FullyReplicated\",\"TrainingInputMode\":\"File\"}}\u001b[0m\n",
      "\u001b[34mSM_OUTPUT_DATA_DIR=/opt/ml/output/data\u001b[0m\n",
      "\u001b[34mSM_CHANNELS=[\"training\"]\u001b[0m\n",
      "\u001b[34mSM_CURRENT_HOST=algo-1\u001b[0m\n",
      "\u001b[34mSM_MODULE_NAME=sklearn-boston-housing\u001b[0m\n",
      "\u001b[34mSM_LOG_LEVEL=20\u001b[0m\n",
      "\u001b[34mSM_FRAMEWORK_MODULE=sagemaker_sklearn_container.training:main\u001b[0m\n",
      "\u001b[34mSM_INPUT_DIR=/opt/ml/input\u001b[0m\n",
      "\u001b[34mSM_INPUT_CONFIG_DIR=/opt/ml/input/config\u001b[0m\n",
      "\u001b[34mSM_OUTPUT_DIR=/opt/ml/output\u001b[0m\n",
      "\u001b[34mSM_NUM_CPUS=2\u001b[0m\n",
      "\u001b[34mSM_NUM_GPUS=0\u001b[0m\n",
      "\u001b[34mSM_MODEL_DIR=/opt/ml/model\u001b[0m\n",
      "\u001b[34mSM_MODULE_DIR=s3://sagemaker-us-east-1-613904931467/sagemaker-scikit-learn-2020-06-12-08-23-47-446/source/sourcedir.tar.gz\u001b[0m\n",
      "\u001b[34mSM_TRAINING_ENV={\"additional_framework_parameters\":{},\"channel_input_dirs\":{\"training\":\"/opt/ml/input/data/training\"},\"current_host\":\"algo-1\",\"framework_module\":\"sagemaker_sklearn_container.training:main\",\"hosts\":[\"algo-1\"],\"hyperparameters\":{\"normalize\":true,\"test-size\":0.1},\"input_config_dir\":\"/opt/ml/input/config\",\"input_data_config\":{\"training\":{\"RecordWrapperType\":\"None\",\"S3DistributionType\":\"FullyReplicated\",\"TrainingInputMode\":\"File\"}},\"input_dir\":\"/opt/ml/input\",\"is_master\":true,\"job_name\":\"sagemaker-scikit-learn-2020-06-12-08-23-47-446\",\"log_level\":20,\"master_hostname\":\"algo-1\",\"model_dir\":\"/opt/ml/model\",\"module_dir\":\"s3://sagemaker-us-east-1-613904931467/sagemaker-scikit-learn-2020-06-12-08-23-47-446/source/sourcedir.tar.gz\",\"module_name\":\"sklearn-boston-housing\",\"network_interface_name\":\"eth0\",\"num_cpus\":2,\"num_gpus\":0,\"output_data_dir\":\"/opt/ml/output/data\",\"output_dir\":\"/opt/ml/output\",\"output_intermediate_dir\":\"/opt/ml/output/intermediate\",\"resource_config\":{\"current_host\":\"algo-1\",\"hosts\":[\"algo-1\"],\"network_interface_name\":\"eth0\"},\"user_entry_point\":\"sklearn-boston-housing.py\"}\u001b[0m\n",
      "\u001b[34mSM_USER_ARGS=[\"--normalize\",\"True\",\"--test-size\",\"0.1\"]\u001b[0m\n",
      "\u001b[34mSM_OUTPUT_INTERMEDIATE_DIR=/opt/ml/output/intermediate\u001b[0m\n",
      "\u001b[34mSM_CHANNEL_TRAINING=/opt/ml/input/data/training\u001b[0m\n",
      "\u001b[34mSM_HP_NORMALIZE=true\u001b[0m\n",
      "\u001b[34mSM_HP_TEST-SIZE=0.1\u001b[0m\n",
      "\u001b[34mPYTHONPATH=/miniconda3/bin:/miniconda3/lib/python37.zip:/miniconda3/lib/python3.7:/miniconda3/lib/python3.7/lib-dynload:/miniconda3/lib/python3.7/site-packages\n",
      "\u001b[0m\n",
      "\u001b[34mInvoking script with the following command:\n",
      "\u001b[0m\n",
      "\u001b[34m/miniconda3/bin/python -m sklearn-boston-housing --normalize True --test-size 0.1\n",
      "\n",
      "\u001b[0m\n",
      "\u001b[34m/miniconda3/lib/python3.7/site-packages/sklearn/externals/joblib/externals/cloudpickle/cloudpickle.py:47: DeprecationWarning: the imp module is deprecated in favour of importlib; see the module's documentation for alternative uses\n",
      "  import imp\u001b[0m\n",
      "\u001b[34mMean squared error: 41.02\u001b[0m\n",
      "\u001b[34mCoefficient of determination: 0.64\u001b[0m\n",
      "\u001b[34m2020-06-12 08:28:07,526 sagemaker-containers INFO     Reporting training SUCCESS\u001b[0m\n",
      "Training seconds: 123\n",
      "Billable seconds: 123\n"
     ]
    }
   ],
   "source": [
    "from sagemaker.sklearn import SKLearn\n",
    "\n",
    "role = sagemaker.get_execution_role()\n",
    "\n",
    "sk = SKLearn(entry_point='sklearn-boston-housing.py',\n",
    "             role=role,\n",
    "             train_instance_count=1, \n",
    "             train_instance_type='ml.m5.large',\n",
    "             output_path=output,\n",
    "             hyperparameters={\n",
    "                  'normalize': True,\n",
    "                  'test-size': 0.1\n",
    "              }\n",
    ")\n",
    "\n",
    "sk.fit({'training':training})"
   ]
  },
  {
   "cell_type": "code",
   "execution_count": 6,
   "metadata": {},
   "outputs": [],
   "source": [
    "import pandas as pd\n",
    "\n",
    "data = pd.read_csv('housing.csv', delim_whitespace=True)\n",
    "data.drop(['medv'], axis=1, inplace=True)\n",
    "data.to_csv('data.csv', header=False, index=False)\n",
    "\n",
    "batch_input = sess.upload_data(path='data.csv', key_prefix=prefix + \"/batch\")"
   ]
  },
  {
   "cell_type": "code",
   "execution_count": 7,
   "metadata": {},
   "outputs": [
    {
     "name": "stderr",
     "output_type": "stream",
     "text": [
      "Parameter image will be renamed to image_uri in SageMaker Python SDK v2.\n"
     ]
    },
    {
     "name": "stdout",
     "output_type": "stream",
     "text": [
      "..................\u001b[34mProcessing /opt/ml/code\u001b[0m\n",
      "\u001b[34mBuilding wheels for collected packages: sklearn-boston-housing\n",
      "  Building wheel for sklearn-boston-housing (setup.py): started\u001b[0m\n",
      "\u001b[34m  Building wheel for sklearn-boston-housing (setup.py): finished with status 'done'\n",
      "  Created wheel for sklearn-boston-housing: filename=sklearn_boston_housing-1.0.0-py2.py3-none-any.whl size=6031 sha256=27aef3388a747318a31bdba9d2a7cb5159063d88aec399118dd3b3efd1f3375e\n",
      "  Stored in directory: /tmp/pip-ephem-wheel-cache-mg5w_fgc/wheels/35/24/16/37574d11bf9bde50616c67372a334f94fa8356bc7164af8ca3\u001b[0m\n",
      "\u001b[34mSuccessfully built sklearn-boston-housing\u001b[0m\n",
      "\u001b[34mInstalling collected packages: sklearn-boston-housing\u001b[0m\n",
      "\u001b[34mSuccessfully installed sklearn-boston-housing-1.0.0\u001b[0m\n",
      "\u001b[34m/miniconda3/lib/python3.7/site-packages/sklearn/externals/joblib/externals/cloudpickle/cloudpickle.py:47: DeprecationWarning: the imp module is deprecated in favour of importlib; see the module's documentation for alternative uses\n",
      "  import imp\u001b[0m\n",
      "\u001b[34m[2020-06-12 08:31:26 +0000] [33] [INFO] Starting gunicorn 19.9.0\u001b[0m\n",
      "\u001b[34m[2020-06-12 08:31:26 +0000] [33] [INFO] Listening at: unix:/tmp/gunicorn.sock (33)\u001b[0m\n",
      "\u001b[34m[2020-06-12 08:31:26 +0000] [33] [INFO] Using worker: gevent\u001b[0m\n",
      "\u001b[34m[2020-06-12 08:31:26 +0000] [36] [INFO] Booting worker with pid: 36\u001b[0m\n",
      "\u001b[34m[2020-06-12 08:31:26 +0000] [38] [INFO] Booting worker with pid: 38\u001b[0m\n",
      "\n",
      "\u001b[34m2020-06-12 08:31:51,451 INFO - sagemaker-containers - No GPUs detected (normal if no gpus installed)\u001b[0m\n",
      "\u001b[34m/miniconda3/lib/python3.7/site-packages/sklearn/externals/joblib/externals/cloudpickle/cloudpickle.py:47: DeprecationWarning: the imp module is deprecated in favour of importlib; see the module's documentation for alternative uses\n",
      "  import imp\u001b[0m\n",
      "\u001b[34m169.254.255.130 - - [12/Jun/2020:08:31:52 +0000] \"GET /ping HTTP/1.1\" 200 0 \"-\" \"Go-http-client/1.1\"\u001b[0m\n",
      "\u001b[34m169.254.255.130 - - [12/Jun/2020:08:31:52 +0000] \"GET /execution-parameters HTTP/1.1\" 404 232 \"-\" \"Go-http-client/1.1\"\u001b[0m\n",
      "\u001b[34m169.254.255.130 - - [12/Jun/2020:08:31:52 +0000] \"POST /invocations HTTP/1.1\" 200 10909 \"-\" \"Go-http-client/1.1\"\u001b[0m\n",
      "\u001b[35m2020-06-12 08:31:51,451 INFO - sagemaker-containers - No GPUs detected (normal if no gpus installed)\u001b[0m\n",
      "\u001b[35m/miniconda3/lib/python3.7/site-packages/sklearn/externals/joblib/externals/cloudpickle/cloudpickle.py:47: DeprecationWarning: the imp module is deprecated in favour of importlib; see the module's documentation for alternative uses\n",
      "  import imp\u001b[0m\n",
      "\u001b[35m169.254.255.130 - - [12/Jun/2020:08:31:52 +0000] \"GET /ping HTTP/1.1\" 200 0 \"-\" \"Go-http-client/1.1\"\u001b[0m\n",
      "\u001b[35m169.254.255.130 - - [12/Jun/2020:08:31:52 +0000] \"GET /execution-parameters HTTP/1.1\" 404 232 \"-\" \"Go-http-client/1.1\"\u001b[0m\n",
      "\u001b[35m169.254.255.130 - - [12/Jun/2020:08:31:52 +0000] \"POST /invocations HTTP/1.1\" 200 10909 \"-\" \"Go-http-client/1.1\"\u001b[0m\n",
      "\u001b[32m2020-06-12T08:31:52.046:[sagemaker logs]: MaxConcurrentTransforms=1, MaxPayloadInMB=6, BatchStrategy=MULTI_RECORD\u001b[0m\n"
     ]
    }
   ],
   "source": [
    "sk_transformer = sk.transformer(instance_count=1, instance_type='ml.m5.large')\n",
    "\n",
    "sk_transformer.transform(batch_input, content_type='text/csv', wait=True, logs=True)"
   ]
  },
  {
   "cell_type": "code",
   "execution_count": 16,
   "metadata": {},
   "outputs": [
    {
     "name": "stdout",
     "output_type": "stream",
     "text": [
      "s3://sagemaker-us-east-1-613904931467/sagemaker-scikit-learn-2020-06-12-08-28-30-978\n"
     ]
    }
   ],
   "source": [
    "print(sk_transformer.output_path)"
   ]
  },
  {
   "cell_type": "code",
   "execution_count": 21,
   "metadata": {},
   "outputs": [
    {
     "name": "stdout",
     "output_type": "stream",
     "text": [
      "2020-06-12 08:31:53      10909 data.csv.out\n",
      "Completed 10.7 KiB/10.7 KiB (39.6 KiB/s) with 1 file(s) remaining\r",
      "download: s3://sagemaker-us-east-1-613904931467/sagemaker-scikit-learn-2020-06-12-08-28-30-978/data.csv.out to ./data.csv.out\n",
      "[[29.73828574177013], [24.920634119498292], [30.666100776465594], [28.695974897147465], [28.14313495300731], [25.131534815796883], [22.93779683063259], [19.675541704745292], [11.892192981811924], [19.02365348703733], [19.324158071572764], [21.51388611589652], [21.093656456568354], [19.481157567290104], [19.199715977483265], [19.20289016451153], [20.56523977980432], [16.97191229091579], [16.151575443182885], [18.249540155016803], [12.549099860265635], [17.61780918403315], [16.04338572589721], [13.890233364827616], [15.71557993966988], [13.375530219127672], [15.442910647261908], [14.89351409223272], [19.672129240011152], [21.06739077799732], [11.670072713244217], [17.96978006117805], [9.420959340186464], [14.26853500969085], [13.94905351382571], [23.476207520224055], [22.087165443555282], [22.911112182716003], [22.885798693135435], [31.342569172100237], [34.311867595438954], [28.361263832360994], [25.319010798766136], [24.810048289887618], [22.968672452967194], [21.97851981852646], [20.518489885762605], [18.159742042405476], [9.439307351790482], [17.221779132657915], [21.390208629701547], [23.865069996057997], [27.79011081822715], [24.106854127248155], [15.416689543672074], [31.604049107924425], [24.916784369679775], [33.10598181002755], [21.887631977449935], [21.021527324537523], [17.809831604139564], [18.396518265411594], [23.931632595375632], [22.955738055073894], [23.812987889625283], [30.163671210376613], [25.283702530277672], [21.02061638337134], [17.331551097738732], [20.653331288833765], [25.389077997700277], [21.814110861992138], [24.54181918669979], [24.19994560831565], [25.528998566770717], [23.87233726777717], [22.759321955768918], [23.21881626728085], [21.27957882943725], [22.221719041385757], [28.433807339137125], [26.834595779322107], [25.959713501375532], [24.873484265963278], [24.78312959676271], [27.677460511327624], [22.14095005171273], [25.59032856195339], [30.431664438499986], [30.76816281965765], [26.873971170076864], [27.088437373151013], [28.93246572341194], [29.046658731024564], [26.90559999585984], [28.372451312355185], [24.40784434505921], [35.8936252389797], [35.33875507376891], [32.26430226222272], [24.491944791610237], [25.51241076327328], [19.647904365405218], [20.103556833532423], [21.150458456687424], [18.2351185626366], [17.00830607752405], [20.529850497182903], [22.443116306849856], [19.65447176599242], [20.654196500508352], [26.371767098676045], [20.453714754000732], [20.50782027141939], [24.79243526337898], [20.146143076801184], [23.144963948438367], [23.260144896643055], [20.107300473726823], [20.493111116531235], [22.250923137609053], [22.764578302753844], [20.925921334978963], [16.97581799940593], [20.85631286514334], [22.746280197741967], [15.202587310286063], [15.228715921225188], [19.19666071740664], [14.159364086061728], [20.211253342213773], [19.543487089494253], [20.167238143279533], [15.831415117548744], [13.400704869210713], [17.57967724035905], [16.051131684625794], [19.60124993474155], [14.083815602377403], [16.718379894305755], [14.1149994342903], [4.4521454413074935], [13.816619897718095], [12.712740390402644], [9.183766678714385], [12.961853456553243], [16.07474870194701], [9.011172305222608], [10.293067945113883], [15.250166210388372], [21.166545556166536], [18.28802518164502], [18.65335986873202], [17.536165392626017], [21.448091448781604], [19.333087774311046], [13.78205808894715], [33.0209551017448], [28.48918604365003], [25.76358800383563], [30.93399076041147], [36.68409982292754], [39.242397219243216], [40.85989999576974], [24.488290105999297], [25.11703073740265], [37.35378244474713], [22.92588882721223], [26.234539404908613], [26.542622273166305], [22.37895698427091], [23.990777604513095], [22.408429529111537], [28.63783018732597], [25.986499268439708], [30.53850523778816], [25.371655907274558], [28.667716195052698], [31.17523022367315], [32.79637386887668], [34.86514883299964], [27.444252810771108], [33.60579115023438], [30.497056864203675], [22.235028079253876], [24.62603157737721], [36.14221301713685], [33.12122638760752], [32.068709015042884], [34.39992580719388], [30.812272263973163], [30.177033512502096], [32.935633042974075], [32.23610128061943], [31.52324311629083], [41.057319281932784], [36.17324875129898], [32.827693795952754], [34.828310500078786], [30.243184371235753], [30.86513150576662], [28.98529117027194], [37.31404411265444], [42.27586273791009], [43.475804971076805], [22.773481304370673], [23.797565602134036], [17.927395520760918], [22.291197798356094], [15.585378791700105], [21.02244807790673], [15.754414877781429], [21.470812524394855], [25.37680865955012], [11.860429808116436], [24.529872866561764], [25.29002142092134], [28.353625145467287], [23.56375806092174], [28.24020122982808], [31.674957336975737], [22.44411467973748], [30.71474520771493], [29.414144649176713], [38.540447862204154], [40.164870202720664], [37.597384764247074], [32.23535276819478], [35.79987363329203], [31.082222763137338], [24.175638892099983], [33.23507675812915], [38.293834085808165], [37.43717624516463], [30.251721556688658], [25.011816665371587], [28.638529203157105], [32.69902414586338], [28.448784406080485], [28.39843655321998], [27.488902859194592], [23.587655953886234], [24.16083352573834], [27.47712266305119], [16.111550201557883], [13.476168138102658], [20.128358776800656], [19.793514016005062], [21.44301046512709], [24.415124346782456], [24.409587782500985], [25.156497991982985], [25.38170561845289], [30.928031787382352], [23.979466417488684], [21.801570085173903], [37.674657277639355], [43.71954153971513], [36.385526735325406], [34.662129540726426], [34.865591543433894], [37.20598302649249], [41.32879272100278], [34.54187388074437], [35.75042256891746], [27.774701254611646], [31.412830212743977], [41.22628336235166], [39.3111131633601], [24.30235455331454], [22.328240677467058], [27.267873564124507], [28.441821479040357], [34.58939555142845], [34.68400825984466], [33.66557290368079], [34.466442141350235], [33.57234289911241], [30.303697077058146], [35.16407340203524], [38.868511827735794], [34.30451340822307], [39.12458569878889], [43.68813208568959], [31.953553330222096], [27.361892800436195], [20.500240934138187], [26.964521959363644], [27.11098139890268], [27.13902286105054], [33.44466851807672], [34.54068123337176], [31.834474459113114], [25.918972099252244], [24.413554168227847], [28.645859052455755], [27.42406570202133], [19.639301785437873], [28.960105813631145], [32.092451195931794], [30.70713741437205], [28.921285975490104], [28.92443422874295], [32.880233627762664], [33.37689272064934], [30.608965194811802], [35.51683059766809], [32.493147764687784], [28.405343730879604], [23.330651627959703], [18.204321113375386], [26.62117090678956], [23.009972310149248], [25.294440020893088], [25.41267020199599], [20.301648582377403], [17.726804108228304], [18.403107500151936], [24.31084517786366], [21.428906751402174], [24.86139943687767], [24.797323128469856], [22.740058006039316], [19.20910751248656], [25.13345296341819], [24.860748578522045], [23.783591474711763], [19.542140541718265], [20.947282243796728], [24.157091060530202], [21.46000549026265], [20.03931599043509], [23.367500892194027], [22.33014898087366], [21.785322981376638], [20.774313760541837], [20.18757166311961], [19.305831917281388], [22.235439929160183], [21.2908718519229], [21.364000814453203], [30.51870969454178], [22.024027396770173], [27.653681296676204], [28.69638608495553], [16.61860149126061], [14.882189684347566], [25.46343877795482], [27.737673371202142], [22.539655747859513], [20.609729091695264], [20.75741880401571], [17.00979473767402], [25.864242568326368], [14.52744842395948], [16.81939584036278], [18.402810211182903], [21.409434490651776], [20.78148134863994], [19.138935037270805], [22.47264593511995], [18.91345278999612], [17.622867592408852], [18.711414794204707], [36.719074651637094], [12.731537858708872], [14.848856815953432], [9.51992392718925], [22.390342910322236], [30.6577958221723], [32.70821018754305], [24.323725480498233], [24.02330302064273], [6.127793078866944], [0.6482783117032476], [25.465736975514073], [18.05579160689851], [20.4464845142953], [16.091906036121195], [16.887779525907973], [15.048665360103357], [18.633926497758345], [13.293614268304871], [12.950257794740079], [3.104818015591995], [8.176534195843512], [5.92395924682242], [5.771147590947237], [6.389361875469014], [13.909499289929816], [16.907460760854683], [17.30398407983053], [9.692499855990803], [20.04161602179442], [17.70512164408832], [20.278861773171663], [19.332473507340065], [16.119815233572368], [6.851456512278084], [11.288782630117616], [12.157129485677366], [17.885324950716587], [18.338506075549866], [12.729774270805613], [7.7069139383342105], [8.470823675699283], [7.318974572891069], [19.315483710088422], [13.53276885992154], [19.959341595263865], [14.742757201027295], [17.080732296800456], [1.6077947867829252], [11.33186319171923], [-3.9653080076398552], [10.160056625497216], [13.954495680018013], [6.991867608055706], [6.533215731753565], [15.24410125280162], [19.543027094508215], [17.934763456168536], [18.00894263695745], [13.285357448473157], [14.301622528762255], [10.106371910325073], [16.149286017450464], [14.200966966842458], [14.47404410326444], [13.359312183116792], [18.06019498505465], [18.844311126708206], [21.28591303548716], [17.14665407758119], [15.941431267178562], [13.88527254722537], [14.789016982252818], [9.280083670401353], [5.606959168086281], [13.074850011316034], [12.85737979488205], [17.483603434499795], [18.67662005779919], [18.227458512062555], [11.698310166430865], [12.456066720200766], [17.76773168612573], [18.13641669639406], [17.50753706026646], [17.363844155417787], [16.816378906088723], [19.570209762413597], [18.60636250720368], [22.92082426451785], [15.641793209646032], [16.076953477425015], [12.768550596836818], [12.9412956589887], [17.293188345673528], [18.42335954812858], [19.255580153226127], [20.144233261749733], [19.75985199848201], [22.29570858200271], [20.251062119850154], [17.77001755627789], [14.290815874476255], [16.778972733711587], [16.881697406101594], [18.31440354457303], [19.936103248742707], [22.49510324850617], [22.291610004640706], [25.6112391694019], [15.85728201578426], [16.09812428447917], [20.48307369776044], [11.311773721433966], [19.01163863835647], [21.53856784341186], [23.10016111117036], [26.73855613881493], [28.29863561703531], [20.69492863094403], [19.29367214744309], [22.088917538169316], [19.432392660474033], [20.991552177650384], [11.692506513370127], [8.266489395689227], [3.832156418402331], [13.778731084066969], [15.863015129856763], [20.430080337285585], [20.64324382447725], [17.10334627028565], [13.996909310489649], [18.97863638747918], [21.200598209401242], [18.215896793468062], [20.35357638434137], [23.746792000040234], [22.307364822387466], [27.662835152869285], [26.155431031801], [22.181421551532285]]"
     ]
    }
   ],
   "source": [
    "%%bash -s \"$sk_transformer.output_path\"\n",
    "aws s3 ls $1/\n",
    "aws s3 cp $1/data.csv.out .\n",
    "head -1 data.csv.out"
   ]
  },
  {
   "cell_type": "code",
   "execution_count": null,
   "metadata": {},
   "outputs": [],
   "source": []
  }
 ],
 "metadata": {
  "kernelspec": {
   "display_name": "conda_python3",
   "language": "python",
   "name": "conda_python3"
  },
  "language_info": {
   "codemirror_mode": {
    "name": "ipython",
    "version": 3
   },
   "file_extension": ".py",
   "mimetype": "text/x-python",
   "name": "python",
   "nbconvert_exporter": "python",
   "pygments_lexer": "ipython3",
   "version": "3.6.5"
  }
 },
 "nbformat": 4,
 "nbformat_minor": 4
}
